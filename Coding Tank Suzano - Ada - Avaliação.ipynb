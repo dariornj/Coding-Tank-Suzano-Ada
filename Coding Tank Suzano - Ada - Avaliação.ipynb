{
 "cells": [
  {
   "cell_type": "code",
   "execution_count": null,
   "metadata": {},
   "outputs": [],
   "source": []
  },
  {
   "cell_type": "markdown",
   "metadata": {},
   "source": [
    "1) Um parque de diversões tem 3 atrações principais: o carrossel, piscina de bolinhas e montanha-russa.\n",
    "\n",
    "Para poder participar de uma atração a pessoa deve cumprir as seguintes condições:\n",
    "\n",
    "Carrossel: altura mínima de 1,00m e idade mínima de 3 anos.\n",
    "\n",
    "Piscina de bolinhas: idade entre 4 e 9 anos e máximo de 1,30m de altura.\n",
    "\n",
    "Montanha-russa: altura mínima de 1,10m.\n",
    "O fiscal de cada atração verificará o ano de nascimento da pessoa e altura para liberar o acesso para uma pessoa.\n",
    "\n",
    "Faça uma função em python que receba o ano de nascimento e altura da pessoa e informe quais as atrações que a pessoa pode participar."
   ]
  },
  {
   "cell_type": "code",
   "execution_count": 63,
   "metadata": {},
   "outputs": [
    {
     "name": "stdout",
     "output_type": "stream",
     "text": [
      "4\n",
      "1.2\n",
      "A pessoa pode ir no carrossel, na montanha-russa e na piscina de bolinhas.\n"
     ]
    }
   ],
   "source": [
    "# Criação da função\n",
    "def parque (ano_nascimento, altura):\n",
    "    idade = datetime.now().year - ano_nascimento\n",
    "    print(idade)\n",
    "    print(altura)\n",
    "\n",
    "    if altura < 1:\n",
    "        if idade >= 4 and idade <= 9:\n",
    "            print('A pessoa pode ir na piscina de bolinhas.')\n",
    "        else:\n",
    "            print('A pessoa não pode participar de nenhuma atração.')\n",
    "    elif altura >= 1 and altura < 1.1:\n",
    "        if idade >=3:\n",
    "            print('A pessoa pode ir no carrossel.')\n",
    "        else:\n",
    "            print('A pessoa não pode participar de nenhuma atração.')\n",
    "    elif altura >= 1.1 and altura <= 1.3:\n",
    "        if idade < 3:\n",
    "            print('A pessoa pode ir na montanha-russa.')\n",
    "        elif idade < 4:\n",
    "            print ('A pessoa pode ir no carrossel e na montanha-russa.')\n",
    "        elif idade <= 9:\n",
    "            print ('A pessoa pode ir no carrossel, na montanha-russa e na piscina de bolinhas.')\n",
    "        else:\n",
    "            print('A pessoa pode ir no carrossel e na montanha-russa.')\n",
    "    else:\n",
    "        if idade >=3:\n",
    "            print('A pessoa pode ir no carrossel e na montanha-russa.')\n",
    "        else:\n",
    "            print('A pessoa pode ir na montanha-russa.')\n",
    "            \n",
    "# Recebendo os dados:            \n",
    "ano_nascimento = int(input('Digite o ano de nascimento: '))\n",
    "altura = float(input('Digite a altura, em metros'))\n",
    "parque(ano_nascimento, altura)\n"
   ]
  },
  {
   "cell_type": "markdown",
   "metadata": {},
   "source": [
    "2) Peça ao usuário para entrar com um número e faça uma função que retorne o fatorial dele como resposta. O fatorial de um número é o resultado da multiplicação de todos os números que o antecedem a partir de 1 até o número fornecido.\n",
    "\n",
    "Exemplo: fatorial de 4 = 1 * 2 * 3 * 4 = 24"
   ]
  },
  {
   "cell_type": "code",
   "execution_count": 77,
   "metadata": {},
   "outputs": [
    {
     "data": {
      "text/plain": [
       "2"
      ]
     },
     "execution_count": 77,
     "metadata": {},
     "output_type": "execute_result"
    }
   ],
   "source": [
    "# Criando a função\n",
    "def fatorial (x):\n",
    "    if x < 0:\n",
    "        print('Digite um número não negativo.')\n",
    "    elif x == 0:\n",
    "        resultado = 1\n",
    "    else: \n",
    "        iter = 1\n",
    "        resultado = 1\n",
    "        while iter <= x:\n",
    "            resultado *= iter\n",
    "            iter += 1  \n",
    "    return resultado\n",
    "\n",
    "# Recebendo os dados\n",
    "num = int(input('Digite o número para o cálculo do seu fatorial: \\n'))\n",
    "fatorial (num)    "
   ]
  },
  {
   "cell_type": "markdown",
   "metadata": {},
   "source": [
    "3) Dado um número fornecido pelo usuário, faça um programa que teste se é número primo e imprima na tela. Além disso, exiba uma lista de divisores do número testado. Um número primo é divisível somente por 1 e por ele mesmo. Seu programa deve ser funcional para qualquer número até o 100.\n",
    "\n",
    "13 é divisível somente por 1 e ele mesmo (13), então é primo.\n",
    "25 é divisível por 1, 5 e ele mesmo (25), então NÃO é primo."
   ]
  },
  {
   "cell_type": "code",
   "execution_count": 75,
   "metadata": {},
   "outputs": [
    {
     "name": "stdout",
     "output_type": "stream",
     "text": [
      "O número 65.0 não é primo. Ele possui 4 divisores e a lista de seus divisores é [1, 5, 13, 65]\n"
     ]
    }
   ],
   "source": [
    "# Recebendo os dados\n",
    "num_input = float(input('Digite o número para verificação se é primo: '))\n",
    "\n",
    "# Verificação\n",
    "if num_input % 1 != 0 or num_input < 0:\n",
    "    print(f'Os números primos são números naturais, logo o número {num_input} não pode ser primo. Tente novamente.')\n",
    "elif num_input > 100:\n",
    "    print(f'O programa é funcional apenas até o número 100. Tente novamente.')\n",
    "else:\n",
    "    contador_divisores = 0\n",
    "    lista_divisores = []\n",
    "    for numero in range(1,101):\n",
    "        if num_input % numero == 0:\n",
    "            lista_divisores.append(numero)\n",
    "            contador_divisores += 1\n",
    "    if contador_divisores == 2:\n",
    "        print (f'O número {num_input} é primo. A lista de seus divisores entre 1 e 100 é {lista_divisores}')\n",
    "    else: \n",
    "        print(f'O número {num_input} não é primo. Ele possui {contador_divisores} divisores e a lista de seus divisores é {lista_divisores}')\n"
   ]
  },
  {
   "cell_type": "markdown",
   "metadata": {},
   "source": [
    "4) Faça um script que leia 10 números do usuário e informe se algum número foi inserido em sequência. Se mais de um número for repetido, informe ao menos um (caso no Exemplo 3).\n",
    "\n",
    "Exemplo 1\n",
    "input 1: 3\n",
    "input 2: 5\n",
    "(etc...) 6.. 7.. 12.. 2... 43.. 5.. \n",
    "input 9: 1\n",
    "input 10: 8\n",
    "output: Nenhum número foi repetido em sequência\n",
    "Exemplo 2\n",
    "input 1: 9\n",
    "input 2: 4\n",
    "(etc...) 9.. 5.. 9.. 6... 3.. 1.. \n",
    "input 9: 6\n",
    "input 10: 6\n",
    "output: O número 6 foi repetido em sequência\n",
    "Exemplo 3\n",
    "input 1: 2\n",
    "input 2: 3\n",
    "(etc...) 9.. 9.. 4.. 6... 7.. 7.. \n",
    "input 9: 4\n",
    "input 10: 3\n",
    "output: O número 7 foi repetido em sequência"
   ]
  },
  {
   "cell_type": "code",
   "execution_count": 74,
   "metadata": {},
   "outputs": [
    {
     "name": "stdout",
     "output_type": "stream",
     "text": [
      "Pelo menos o número 1.0 foi repetido na sequência [1.0, 1.0, 2.0, 3.0, 4.0, 5.0, 6.0, 7.0, 8.0, 9.0]\n"
     ]
    }
   ],
   "source": [
    "# Recebendo os dados do usuário\n",
    "lista_numeros = []\n",
    "for iter in range(1,11):\n",
    "    num_input = float(input('Digite um número: '))\n",
    "    lista_numeros.append(num_input)\n",
    "\n",
    "# Verificando se há números repetidos em sequência\n",
    "num_repetido = []\n",
    "for iter in range(1,10):\n",
    "    if lista_numeros[iter] == lista_numeros[iter-1]:\n",
    "        num_repetido.append(lista_numeros[iter])\n",
    "\n",
    "if num_repetido == []:\n",
    "    print(f'Não há números repetidos na sequência {lista_numeros}')\n",
    "else:\n",
    "    print(f'Pelo menos o número {num_repetido[-1]} foi repetido na sequência {lista_numeros}')\n"
   ]
  }
 ],
 "metadata": {
  "kernelspec": {
   "display_name": "Python 3.10.5 64-bit",
   "language": "python",
   "name": "python3"
  },
  "language_info": {
   "codemirror_mode": {
    "name": "ipython",
    "version": 3
   },
   "file_extension": ".py",
   "mimetype": "text/x-python",
   "name": "python",
   "nbconvert_exporter": "python",
   "pygments_lexer": "ipython3",
   "version": "3.10.5"
  },
  "orig_nbformat": 4,
  "vscode": {
   "interpreter": {
    "hash": "75c7325c0caecc2d82c8a4e534cbb5ce82d278e087a13a7861173b66f0f67f74"
   }
  }
 },
 "nbformat": 4,
 "nbformat_minor": 2
}
