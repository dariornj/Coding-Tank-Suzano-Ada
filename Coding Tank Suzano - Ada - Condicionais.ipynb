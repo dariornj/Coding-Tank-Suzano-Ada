{
 "cells": [
  {
   "cell_type": "markdown",
   "metadata": {},
   "source": [
    "Exercícios sobre condicionais\n",
    "\n",
    "\n",
    "1) Faça um programa que peça a idade da pessoa e imprima se ela é maior ou menor de 18 anos."
   ]
  },
  {
   "cell_type": "code",
   "execution_count": 3,
   "metadata": {},
   "outputs": [
    {
     "name": "stdout",
     "output_type": "stream",
     "text": [
      "Como você possui 12 anos, tem menos de 18 anos.\n"
     ]
    }
   ],
   "source": [
    "idade = int(input('Qual a sua idade? '))\n",
    "\n",
    "if idade > 18:\n",
    "    print(f'Como você possui {idade} anos, tem mais de 18 anos.')\n",
    "elif idade == 18 :\n",
    "    print(f'Você possui exatamente {idade} anos.')\n",
    "else:\n",
    "    print(f'Como você possui {idade} anos, tem menos de 18 anos.')\n"
   ]
  },
  {
   "cell_type": "markdown",
   "metadata": {},
   "source": [
    "2) Faça um programa que peça um número e mostre se ele é positivo ou negativo."
   ]
  },
  {
   "cell_type": "code",
   "execution_count": 6,
   "metadata": {},
   "outputs": [
    {
     "name": "stdout",
     "output_type": "stream",
     "text": [
      "O número -122.0 é negativo.\n"
     ]
    }
   ],
   "source": [
    "num = float(input('Digite um número: '))\n",
    "\n",
    "if num > 0:\n",
    "    print(f'O número {num} é positivo')\n",
    "elif num == 0:\n",
    "    print(f'{num} é neutro.')\n",
    "else:\n",
    "    print (f'O número {num} é negativo.')"
   ]
  },
  {
   "cell_type": "markdown",
   "metadata": {},
   "source": [
    "3) Faça um programa que peça dois números e mostre o maior deles."
   ]
  },
  {
   "cell_type": "code",
   "execution_count": 10,
   "metadata": {},
   "outputs": [
    {
     "name": "stdout",
     "output_type": "stream",
     "text": [
      "-23.0 é o maior número\n"
     ]
    }
   ],
   "source": [
    "num1 = float(input('Digite o primeiro número: '))\n",
    "num2 = float(input('Digite o segundo número: '))\n",
    "\n",
    "if num1 > num2:\n",
    "    print (f'{num1} é o maior número')\n",
    "elif num1 == num2:\n",
    "    print ('Os números são iguais')\n",
    "else:\n",
    "    print(f'{num2} é o maior número.')"
   ]
  },
  {
   "cell_type": "markdown",
   "metadata": {},
   "source": [
    "4) Escreva um programa que peça a nota de 3 provas de um aluno e mostre se ele passou ou não de ano.\n",
    "\n",
    "Obs.: O aluno irá passar de ano se a média das suas notas for maior ou igual a 6 (média é a soma das notas dividido pelo número de provas)."
   ]
  },
  {
   "cell_type": "code",
   "execution_count": 13,
   "metadata": {},
   "outputs": [
    {
     "name": "stdout",
     "output_type": "stream",
     "text": [
      "O aluno foi aprovado com média 6.0\n"
     ]
    }
   ],
   "source": [
    "nota1 = float(input('Digite a primeira nota: '))\n",
    "nota2 = float(input('Digite a segunda nota: '))\n",
    "nota3 = float(input('Digite a terceira nota: '))\n",
    "\n",
    "media = (nota1 + nota2 + nota3)/3\n",
    "\n",
    "if media >= 6:\n",
    "    print (f'O aluno foi aprovado com média {media}')\n",
    "else:\n",
    "    print(f'O aluno foi reprovado com {media}')"
   ]
  },
  {
   "cell_type": "markdown",
   "metadata": {},
   "source": [
    "5) Faça um programa que mostre uma questão de múltipla escolha com 5 opções (letras a, b, c, d, e). Sabendo a resposta certa, o programa deve receber a opção do usuário e informar a letra que o usuário marcou e se a resposta está certa ou errada."
   ]
  },
  {
   "cell_type": "code",
   "execution_count": 16,
   "metadata": {},
   "outputs": [
    {
     "name": "stdout",
     "output_type": "stream",
     "text": [
      "Infelizmente a alternativa a está incorreta. A alternativa correta é d.\n"
     ]
    }
   ],
   "source": [
    "resp_user = input('Qual a alternativa correta: a - b - c - d - e?')\n",
    "# supondo a resposta correta: d\n",
    "resp_correta = 'd'\n",
    "\n",
    "if resp_user == resp_correta:\n",
    "    print(f'Parabéns! A resposta correta é a alternativa {resp_correta}')\n",
    "else:\n",
    "    print(f'Infelizmente a alternativa {resp_user} está incorreta. A alternativa correta é {resp_correta}.')"
   ]
  },
  {
   "cell_type": "markdown",
   "metadata": {},
   "source": [
    "6) Vamos fazer um programa para verificar quem é o assassino de um crime. Para descobrir o assassino, a polícia faz um pequeno questionário com 5 perguntas onde a resposta só pode ser sim ou não:\n",
    "\n",
    "a. Mora perto da vítima?\n",
    "\n",
    "b. Já trabalhou com a vítima?\n",
    "\n",
    "c. Telefonou para a vítima?\n",
    "\n",
    "d. Esteve no local do crime?\n",
    "\n",
    "e. Devia para a vítima?\n",
    "\n",
    "Cada resposta sim dá um ponto para o suspeito. A polícia considera que os suspeitos com 5 pontos são os assassinos, com 4 a 3 pontos são cúmplices e 2 pontos são apenas suspeitos, necessitando outras investigações. Valores abaixo de 1 são liberados."
   ]
  },
  {
   "cell_type": "code",
   "execution_count": 24,
   "metadata": {},
   "outputs": [
    {
     "name": "stdout",
     "output_type": "stream",
     "text": [
      "O indivíduo é o assassino.\n"
     ]
    }
   ],
   "source": [
    "q1 = input('Mora perto da vítima? (Sim/Não) ').capitalize()\n",
    "q2 = input('Já trabalhou com a vítima? (Sim/Não) ').capitalize()\n",
    "q3 = input('Telefonou para a vítima? (Sim/Não) ').capitalize()\n",
    "q4 = input('Esteve no local do crime? (Sim/Não) ').capitalize()\n",
    "q5 = input('Devia para a vítima? (Sim/Não) ').capitalize()\n",
    "\n",
    "# Contagem dos pontos\n",
    "pontos = 0\n",
    "\n",
    "if q1 == 'Sim' or q1 == 'S':\n",
    "    pontos += 1\n",
    "else:\n",
    "    pontos == pontos\n",
    "\n",
    "if q2 == 'Sim' or q2 == 'S':\n",
    "    pontos += 1\n",
    "else:\n",
    "    pontos == pontos\n",
    "\n",
    "if q3 == 'Sim' or q3 == 'S':\n",
    "    pontos += 1\n",
    "else:\n",
    "    pontos == pontos\n",
    "\n",
    "if q4 == 'Sim' or q4 == 'S':\n",
    "    pontos += 1\n",
    "else:\n",
    "    pontos == pontos\n",
    "\n",
    "if q5 == 'Sim' or q5 == 'S':\n",
    "    pontos += 1\n",
    "else:\n",
    "    pontos == pontos\n",
    "\n",
    "# Classificação dos suspeitos\n",
    "\n",
    "if pontos == 5:\n",
    "    print ('O indivíduo é o assassino.')\n",
    "elif pontos == 4 or pontos == 3:\n",
    "    print ('O indivíduo é cúmplice.')\n",
    "elif pontos == 2:\n",
    "    print('O indivíduo é apenas suspeito.')\n",
    "else:\n",
    "    print('O indivíduo pode ser liberado.')"
   ]
  },
  {
   "cell_type": "markdown",
   "metadata": {},
   "source": [
    "7) Faça um programa em que o usuário tem que adivinhar o número escolhido pelo computador. O computador deve sortear um número inteiro de 1 a 5 e pedir para o usuário tentar descobrir qual o número sorteado. Após o usuário digitar sua resposta, o programa deve dizer se ele acertou ou não. Dica: para sortear um número, você precisará utilizar a biblioteca random."
   ]
  },
  {
   "cell_type": "code",
   "execution_count": 53,
   "metadata": {},
   "outputs": [
    {
     "name": "stdout",
     "output_type": "stream",
     "text": [
      "Parabéns! Você adivinhou o número corretamente!\n"
     ]
    }
   ],
   "source": [
    "from random import randint\n",
    "num_rand = randint(1,5)\n",
    "\n",
    "num_user = int(input('Digite um número inteiro de 1 a 5: '))\n",
    "\n",
    "if num_user == num_rand:\n",
    "    print('Parabéns! Você adivinhou o número corretamente!')\n",
    "else:\n",
    "    print(f'Infelizmente você não adivinhou o número. O número correto é {num_rand} e você digitou {num_user}')"
   ]
  },
  {
   "cell_type": "markdown",
   "metadata": {},
   "source": [
    "8) Vamos fazer um radar eletrônico de velocidade. Faça um programa que leia a velocidade de um carro, e diga se ele está acima ou não da velocidade permitida de 50 km/h. Se o carro estiver acima da velocidade, o programa deve imprimir que o motorista ultrapassou a velocidade permitida e recebeu uma multa num determinado valor. Para calcular o valor da multa, considere que para cada quilômetro acima da velocidade permitida, o motorista deve pagar 10 reais."
   ]
  },
  {
   "cell_type": "code",
   "execution_count": 58,
   "metadata": {},
   "outputs": [
    {
     "name": "stdout",
     "output_type": "stream",
     "text": [
      "O carro está em velocidade abaixo da máxima permitida\n"
     ]
    }
   ],
   "source": [
    "vel = float(input('Digite a velocidade em km/h: '))\n",
    "\n",
    "if vel > 50:\n",
    "    multa = (vel-50)*10\n",
    "    print(f'O carro está acima da velocidade. O valor da multa é R${multa}')\n",
    "elif vel == 50:\n",
    "    print('O carro está na velocidade máxima permitida.')\n",
    "else:\n",
    "    print('O carro está em velocidade abaixo da máxima permitida.')\n"
   ]
  },
  {
   "cell_type": "markdown",
   "metadata": {},
   "source": [
    "9)Com a recomendação que as pessoas fiquem em casa e evitem aglomerações como medida pra frear a contaminação pelo coronavírus, como saber quando devemos procurar um hospital? Faça um programa que pergunte os sintomas que a pessoa apresenta e responda se ela deve ou não procurar um hospital.\n",
    "\n",
    "Sintomas: a. Você tem febre persistente? b. Você tem dificuldade para respirar?\n",
    "\n",
    "A resposta do programa deve seguir a seguinte tabela:\n",
    "\n",
    "A\tB\tResultado\n",
    "Sim\tNão\tFique em casa\n",
    "Não\tSim\tFique em casa\n",
    "Não\tNão\tFique em casa\n",
    "Sim\tSim\tProcure um hospital"
   ]
  },
  {
   "cell_type": "code",
   "execution_count": 67,
   "metadata": {},
   "outputs": [
    {
     "name": "stdout",
     "output_type": "stream",
     "text": [
      "Procure um hospital\n"
     ]
    }
   ],
   "source": [
    "q1 = input('Você tem febre persistente? (Sim/Não) ').capitalize()\n",
    "q2 = input('Você tem dificuldade para respirar? (Sim/Não) ').capitalize()\n",
    "\n",
    "if (q1 == 'Sim' or q1 == 'S') and (q2 == 'Sim' or q2 == 'S'):\n",
    "    print('Procure um hospital')\n",
    "else:\n",
    "    print('Fique em casa')"
   ]
  }
 ],
 "metadata": {
  "kernelspec": {
   "display_name": "Python 3.10.5 64-bit",
   "language": "python",
   "name": "python3"
  },
  "language_info": {
   "codemirror_mode": {
    "name": "ipython",
    "version": 3
   },
   "file_extension": ".py",
   "mimetype": "text/x-python",
   "name": "python",
   "nbconvert_exporter": "python",
   "pygments_lexer": "ipython3",
   "version": "3.10.5"
  },
  "orig_nbformat": 4,
  "vscode": {
   "interpreter": {
    "hash": "75c7325c0caecc2d82c8a4e534cbb5ce82d278e087a13a7861173b66f0f67f74"
   }
  }
 },
 "nbformat": 4,
 "nbformat_minor": 2
}
