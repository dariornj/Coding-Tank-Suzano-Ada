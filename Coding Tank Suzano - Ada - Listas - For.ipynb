{
 "cells": [
  {
   "cell_type": "code",
   "execution_count": 17,
   "metadata": {},
   "outputs": [
    {
     "name": "stdout",
     "output_type": "stream",
     "text": [
      "9\n"
     ]
    }
   ],
   "source": [
    "# Contar digitos\n",
    "\n",
    "numero = float(input('Digite um número qualquer :'))\n",
    "contador = 0\n",
    "while numero!=0:\n",
    "  numero = numero//10\n",
    "  contador +=1\n",
    "print(contador)\n",
    "\n"
   ]
  },
  {
   "cell_type": "code",
   "execution_count": 5,
   "metadata": {},
   "outputs": [
    {
     "data": {
      "text/plain": [
       "['dinheiro']"
      ]
     },
     "execution_count": 5,
     "metadata": {},
     "output_type": "execute_result"
    }
   ],
   "source": [
    "# Selecionar 'dinheiro' na lista abaixo\n",
    "\n",
    "lista = [1, 2, 3, \"joaquim\", [\"rogerio\", \"fernando\", [\"paula\", \"ana\", \"valeria\", [\"dinheiro\"]]]]\n",
    "lista[4][2][3]\n"
   ]
  },
  {
   "cell_type": "code",
   "execution_count": 2,
   "metadata": {},
   "outputs": [
    {
     "name": "stdout",
     "output_type": "stream",
     "text": [
      "1\n",
      "2\n",
      "3\n",
      "4\n",
      "5\n",
      "6\n",
      "7\n",
      "8\n",
      "9\n"
     ]
    }
   ],
   "source": [
    "#printar lista inteira com while\n",
    "\n",
    "numeros = [1,2,3,4,5,6,7,8,9]\n",
    "contador = 0\n",
    "indice = 0\n",
    "\n",
    "while(indice < len(numeros)):\n",
    "    print( numeros[indice])\n",
    "    indice += 1\n",
    "    contador += 1"
   ]
  },
  {
   "cell_type": "code",
   "execution_count": 6,
   "metadata": {},
   "outputs": [
    {
     "name": "stdout",
     "output_type": "stream",
     "text": [
      "[0, 1, 2, 3, 4, 5, 6, 7, 8, 9, 10, 11, 12, 13, 14, 15, 16, 17, 18, 19, 20, 21, 22, 23, 24, 25, 26, 27, 28, 29, 30, 31, 32, 33, 34, 35, 36, 37, 38, 39, 40, 41, 42, 43, 44, 45, 46, 47, 48, 49, 50, 51, 52, 53, 54, 55, 56, 57, 58, 59, 60, 61, 62, 63, 64, 65, 66, 67, 68, 69, 70, 71, 72, 73, 74, 75, 76, 77, 78, 79, 80, 81, 82, 83, 84, 85, 86, 87, 88, 89, 90, 91, 92, 93, 94, 95, 96, 97, 98, 99, 100]\n"
     ]
    }
   ],
   "source": [
    "# Criar Lista de 0 a 100\n",
    "lista = []\n",
    "\n",
    "numero = 0\n",
    "\n",
    "while numero <= 100:\n",
    "    lista.append(numero)\n",
    "    numero += 1\n",
    "\n",
    "print(lista)"
   ]
  },
  {
   "cell_type": "code",
   "execution_count": 19,
   "metadata": {},
   "outputs": [
    {
     "name": "stdout",
     "output_type": "stream",
     "text": [
      "[0, 1, 2, 3, 4, 5, 6, 7, 8, 9, 10, 11, 12, 13, 14, 15, 16, 17, 18, 19, 20, 21, 22, 23, 24, 25, 26, 27, 28, 29, 30, 31, 32, 33, 34, 35, 36, 37, 38, 39, 40, 41, 42, 43, 44, 45, 46, 47, 48, 49, 50, 51, 52, 53, 54, 55, 56, 57, 58, 59, 60, 61, 62, 63, 64, 65, 66, 67, 68, 69, 70, 71, 72, 73, 74, 75, 76, 77, 78, 79, 80, 81, 82, 83, 84, 85, 86, 87, 88, 89, 90, 91, 92, 93, 94, 95, 96, 97, 98, 99, 100]\n"
     ]
    }
   ],
   "source": [
    "lista = []\n",
    "\n",
    "for elemento in range(0,101):\n",
    "    lista.append(elemento)\n",
    "\n",
    "print(lista)"
   ]
  },
  {
   "cell_type": "code",
   "execution_count": 20,
   "metadata": {},
   "outputs": [
    {
     "data": {
      "text/plain": [
       "[0,\n",
       " 1,\n",
       " 2,\n",
       " 3,\n",
       " 4,\n",
       " 5,\n",
       " 6,\n",
       " 7,\n",
       " 8,\n",
       " 9,\n",
       " 10,\n",
       " 11,\n",
       " 12,\n",
       " 13,\n",
       " 14,\n",
       " 15,\n",
       " 16,\n",
       " 17,\n",
       " 18,\n",
       " 19,\n",
       " 20,\n",
       " 21,\n",
       " 22,\n",
       " 23,\n",
       " 24,\n",
       " 25,\n",
       " 26,\n",
       " 27,\n",
       " 28,\n",
       " 29,\n",
       " 30,\n",
       " 31,\n",
       " 32,\n",
       " 33,\n",
       " 34,\n",
       " 35,\n",
       " 36,\n",
       " 37,\n",
       " 38,\n",
       " 39,\n",
       " 40,\n",
       " 41,\n",
       " 42,\n",
       " 43,\n",
       " 44,\n",
       " 45,\n",
       " 46,\n",
       " 47,\n",
       " 48,\n",
       " 49,\n",
       " 50,\n",
       " 51,\n",
       " 52,\n",
       " 53,\n",
       " 54,\n",
       " 55,\n",
       " 56,\n",
       " 57,\n",
       " 58,\n",
       " 59,\n",
       " 60,\n",
       " 61,\n",
       " 62,\n",
       " 63,\n",
       " 64,\n",
       " 65,\n",
       " 66,\n",
       " 67,\n",
       " 68,\n",
       " 69,\n",
       " 70,\n",
       " 71,\n",
       " 72,\n",
       " 73,\n",
       " 74,\n",
       " 75,\n",
       " 76,\n",
       " 77,\n",
       " 78,\n",
       " 79,\n",
       " 80,\n",
       " 81,\n",
       " 82,\n",
       " 83,\n",
       " 84,\n",
       " 85,\n",
       " 86,\n",
       " 87,\n",
       " 88,\n",
       " 89,\n",
       " 90,\n",
       " 91,\n",
       " 92,\n",
       " 93,\n",
       " 94,\n",
       " 95,\n",
       " 96,\n",
       " 97,\n",
       " 98,\n",
       " 99,\n",
       " 100]"
      ]
     },
     "execution_count": 20,
     "metadata": {},
     "output_type": "execute_result"
    }
   ],
   "source": [
    "#Utilizando list comprehension\n",
    "lista100 = [x for x in range(0,101,1)]\n",
    "lista100"
   ]
  },
  {
   "cell_type": "code",
   "execution_count": 11,
   "metadata": {},
   "outputs": [
    {
     "name": "stdout",
     "output_type": "stream",
     "text": [
      "[0, 2, 4, 6, 8, 10, 12, 14, 16, 18, 20, 22, 24, 26, 28, 30, 32, 34, 36, 38, 40, 42, 44, 46, 48, 50, 52, 54, 56, 58, 60, 62, 64, 66, 68, 70, 72, 74, 76, 78, 80, 82, 84, 86, 88, 90, 92, 94, 96, 98, 100]\n"
     ]
    }
   ],
   "source": [
    "# Criar lista que só receba elementos pares entre 0 a 100\n",
    "\n",
    "lista = []\n",
    "\n",
    "numero = 0\n",
    "\n",
    "while numero <= 100:\n",
    "    if numero%2 == 0:\n",
    "        lista.append(numero)  \n",
    "    numero += 1\n",
    "\n",
    "\n",
    "print(lista)"
   ]
  },
  {
   "cell_type": "code",
   "execution_count": 21,
   "metadata": {},
   "outputs": [
    {
     "name": "stdout",
     "output_type": "stream",
     "text": [
      "[0, 2, 4, 6, 8, 10, 12, 14, 16, 18, 20, 22, 24, 26, 28, 30, 32, 34, 36, 38, 40, 42, 44, 46, 48, 50, 52, 54, 56, 58, 60, 62, 64, 66, 68, 70, 72, 74, 76, 78, 80, 82, 84, 86, 88, 90, 92, 94, 96, 98, 100]\n"
     ]
    }
   ],
   "source": [
    "# Criar lista que só receba elementos pares entre 0 a 100 (Alternativa)\n",
    "\n",
    "lista = []\n",
    "\n",
    "for elemento in range(0,101,2):\n",
    "    lista.append(elemento)\n",
    "\n",
    "print(lista)"
   ]
  },
  {
   "cell_type": "code",
   "execution_count": 16,
   "metadata": {},
   "outputs": [
    {
     "name": "stdout",
     "output_type": "stream",
     "text": [
      "[0, 2, 4, 6, 8, 10, 12, 14, 16, 18, 20, 22, 24, 26, 28, 30, 32, 34, 36, 38, 40, 42, 44, 46, 48, 50, 52, 54, 56, 58, 60, 62, 64, 66, 68, 70, 72, 74, 76, 78, 80, 82, 84, 86, 88, 90, 92, 94, 96, 98, 100]\n"
     ]
    }
   ],
   "source": [
    "# Criar lista que só receba elementos pares entre 0 a 100 (Alternativa 2)\n",
    "\n",
    "lista = []\n",
    "\n",
    "numero = 0\n",
    "\n",
    "while numero <= 100:\n",
    "    lista.append(numero)  \n",
    "    numero += 2\n",
    "\n",
    "\n",
    "print(lista)"
   ]
  },
  {
   "cell_type": "code",
   "execution_count": 12,
   "metadata": {},
   "outputs": [
    {
     "name": "stdout",
     "output_type": "stream",
     "text": [
      "[0, 7, 14, 21, 28, 35, 42, 49, 56, 63, 70, 77, 84, 91, 98, 105, 112, 119, 126, 133, 140, 147, 154, 161, 168, 175, 182, 189, 196, 203, 210, 217, 224, 231, 238, 245, 252, 259, 266, 273, 280, 287, 294, 301, 308, 315, 322, 329, 336, 343, 350, 357, 364, 371, 378, 385, 392, 399, 406, 413, 420, 427, 434, 441, 448, 455, 462, 469, 476, 483, 490, 497, 504, 511, 518, 525, 532, 539, 546, 553, 560, 567, 574, 581, 588, 595, 602, 609, 616, 623, 630, 637, 644, 651, 658, 665, 672, 679, 686, 693, 700, 707, 714, 721, 728, 735, 742, 749, 756, 763, 770, 777, 784, 791, 798, 805, 812, 819, 826, 833, 840, 847, 854, 861, 868, 875, 882, 889, 896, 903, 910, 917, 924, 931, 938, 945, 952, 959, 966, 973, 980, 987, 994]\n"
     ]
    }
   ],
   "source": [
    "# Elementos multiplos de 7 entre 0 e 1000\n",
    "\n",
    "lista = []\n",
    "\n",
    "numero = 0\n",
    "\n",
    "while numero <= 1000:\n",
    "    if numero%7 == 0:\n",
    "        lista.append(numero)  \n",
    "    numero += 1\n",
    "\n",
    "\n",
    "print(lista)"
   ]
  },
  {
   "cell_type": "code",
   "execution_count": 22,
   "metadata": {},
   "outputs": [
    {
     "name": "stdout",
     "output_type": "stream",
     "text": [
      "[0, 7, 14, 21, 28, 35, 42, 49, 56, 63, 70, 77, 84, 91, 98, 105, 112, 119, 126, 133, 140, 147, 154, 161, 168, 175, 182, 189, 196, 203, 210, 217, 224, 231, 238, 245, 252, 259, 266, 273, 280, 287, 294, 301, 308, 315, 322, 329, 336, 343, 350, 357, 364, 371, 378, 385, 392, 399, 406, 413, 420, 427, 434, 441, 448, 455, 462, 469, 476, 483, 490, 497, 504, 511, 518, 525, 532, 539, 546, 553, 560, 567, 574, 581, 588, 595, 602, 609, 616, 623, 630, 637, 644, 651, 658, 665, 672, 679, 686, 693, 700, 707, 714, 721, 728, 735, 742, 749, 756, 763, 770, 777, 784, 791, 798, 805, 812, 819, 826, 833, 840, 847, 854, 861, 868, 875, 882, 889, 896, 903, 910, 917, 924, 931, 938, 945, 952, 959, 966, 973, 980, 987, 994]\n"
     ]
    }
   ],
   "source": [
    "# Elementos multiplos de 7 entre 0 e 1000 (Alternativa)\n",
    "\n",
    "lista = []\n",
    "\n",
    "for elemento in range(0,1001,7):\n",
    "    lista.append(elemento)\n",
    "\n",
    "print(lista)"
   ]
  },
  {
   "cell_type": "code",
   "execution_count": 23,
   "metadata": {},
   "outputs": [
    {
     "name": "stdout",
     "output_type": "stream",
     "text": [
      "[0, 1, 2, 3, 4, 5, 6, 7, 8, 9, 10, 11, 12, 13, 14, 15, 16, 17, 18, 19, 20, 21, 22, 23, 24, 25, 26, 27, 28, 29, 30, 31, 32, 33, 34, 35, 36, 37, 38, 39, 40, 41, 42, 43, 44, 45, 46, 47, 48, 49, 50, 51, 52, 53, 54, 55, 56, 57, 58, 59, 60, 61, 62, 63, 64, 65, 66, 67, 68, 69, 70, 71, 72, 73, 74, 75, 76, 77, 78, 79, 80, 81, 82, 83, 84, 85, 86, 87, 88, 89, 90, 91, 92, 93, 94, 95, 96, 97, 98, 99, 100]\n",
      "O número de múltiplos de 5 é 21\n"
     ]
    }
   ],
   "source": [
    "# Crie um script que percorra uma lista de numeros e retorne quantos são múltiplos de 5\n",
    "\n",
    "lista = []\n",
    "n_mult5 = 0\n",
    "for elemento in range(0,101):\n",
    "    lista.append(elemento)\n",
    "    if elemento%5 == 0:\n",
    "        n_mult5 +=1\n",
    "\n",
    "print(lista)\n",
    "print(f'O número de múltiplos de 5 é {n_mult5}')"
   ]
  },
  {
   "cell_type": "code",
   "execution_count": 35,
   "metadata": {},
   "outputs": [
    {
     "name": "stdout",
     "output_type": "stream",
     "text": [
      "Há 9 inteiros, 3 floats, 4 booleanos e 12 strings\n"
     ]
    }
   ],
   "source": [
    "lista = ['Stone', 1, 'Lets', 2, True, '2', 'show', 234, 87, 1.33333, 7.0000, 1e-9, 'uasdhfusah', 'zuei', False, False, True, 132434, \"1324123\", \"False\", \"True\", \"Sucesso\", 5, \"u\",\"c\", 3, 55, 0 ]\n",
    "\n",
    "n_int = 0\n",
    "n_float = 0\n",
    "n_bool = 0\n",
    "n_string = 0\n",
    "\n",
    "for i in range(0,len(lista)):\n",
    "    if (type(lista[i]) == int):\n",
    "        n_int +=1\n",
    "    elif (type(lista[i]) == float):\n",
    "        n_float += 1\n",
    "    elif (type(lista[i]) == bool):\n",
    "        n_bool += 1\n",
    "    else:\n",
    "        n_string += 1\n",
    "\n",
    "print (f'Há {n_int} inteiros, {n_float} floats, {n_bool} booleanos e {n_string} strings')\n",
    "\n"
   ]
  },
  {
   "cell_type": "markdown",
   "metadata": {},
   "source": [
    "1) Crie uma lista qualquer e faça um programa que imprima cada elemento da lista usando o for."
   ]
  },
  {
   "cell_type": "code",
   "execution_count": 5,
   "metadata": {},
   "outputs": [
    {
     "name": "stdout",
     "output_type": "stream",
     "text": [
      "1\n",
      "2\n",
      "3\n",
      "4\n",
      "5\n",
      "6\n",
      "7\n",
      "8\n"
     ]
    }
   ],
   "source": [
    "lista = [1, 2, 3, 4, 5, 6, 7, 8]\n",
    "\n",
    "for i in lista:\n",
    "    print(lista[i-1])\n"
   ]
  },
  {
   "cell_type": "markdown",
   "metadata": {},
   "source": [
    "2) Faça um programa que imprima todos os itens de uma lista usando while e compare com o exercício 1."
   ]
  },
  {
   "cell_type": "code",
   "execution_count": 6,
   "metadata": {},
   "outputs": [
    {
     "name": "stdout",
     "output_type": "stream",
     "text": [
      "1\n",
      "2\n",
      "3\n",
      "4\n",
      "5\n",
      "6\n",
      "7\n",
      "8\n"
     ]
    }
   ],
   "source": [
    "lista = [1, 2, 3, 4, 5, 6, 7, 8]\n",
    "i = 0\n",
    "while i < len(lista):\n",
    "    print(lista[i])\n",
    "    i += 1\n",
    "\n",
    "# programa maior e com mais parâmetros"
   ]
  },
  {
   "cell_type": "markdown",
   "metadata": {},
   "source": [
    "3) Faça um programa que peça para o usuário digitar um número n e imprima uma lista com todos os números de 0 a n-1.\n",
    "\n",
    "Exemplo: se o usuário digitar 5, o programa deve imprimir [0, 1, 2, 3, 4]"
   ]
  },
  {
   "cell_type": "code",
   "execution_count": 10,
   "metadata": {},
   "outputs": [
    {
     "name": "stdout",
     "output_type": "stream",
     "text": [
      "[0, 1, 2, 3, 4, 5, 6, 7, 8, 9]\n"
     ]
    }
   ],
   "source": [
    "while (True):\n",
    "    n = int(input('Digite um número inteiro maior que 0: '))\n",
    "    if n <=0:\n",
    "        n = int(input('Digite um número inteiro maior que 0: '))\n",
    "    else:\n",
    "        lista = []\n",
    "        i = 0\n",
    "        while len(lista) < n:\n",
    "            lista.append(i)\n",
    "            i +=1\n",
    "    break   \n",
    "print(lista)   "
   ]
  },
  {
   "cell_type": "markdown",
   "metadata": {},
   "source": [
    "4) Faça um programa que olhe todos os itens de uma lista e diga quantos deles são pares."
   ]
  },
  {
   "cell_type": "code",
   "execution_count": 28,
   "metadata": {},
   "outputs": [
    {
     "name": "stdout",
     "output_type": "stream",
     "text": [
      "A lista possui 4 números pares\n"
     ]
    }
   ],
   "source": [
    "lista = [2, 2, 2, 2, 23]\n",
    "\n",
    "i = 1\n",
    "n_par = 0\n",
    "\n",
    "for num in lista:\n",
    "    if lista[i-1] % 2 == 0:\n",
    "        n_par +=1\n",
    "    i += 1\n",
    "\n",
    "print(f'A lista possui {n_par} números pares')\n"
   ]
  },
  {
   "cell_type": "markdown",
   "metadata": {},
   "source": [
    "5) Agora usando a função max() faça um programa que imprima os três maiores números de uma lista.\n",
    "\n",
    "Dica: Use o método próprio de listas .remove()."
   ]
  },
  {
   "cell_type": "code",
   "execution_count": 38,
   "metadata": {},
   "outputs": [
    {
     "name": "stdout",
     "output_type": "stream",
     "text": [
      "Os três maiores números da lista são [120, 142, 200]\n"
     ]
    }
   ],
   "source": [
    "lista = [20, 23, 22, 20, 18, 29, -10, 100, 120, 142, 200, 100]\n",
    "\n",
    "maiores = []\n",
    "i = 1\n",
    "\n",
    "for i in range(3):\n",
    "    maiores.append(max(lista))\n",
    "    lista.remove(max(lista))\n",
    "    i += 1\n",
    "\n",
    "print(f'Os três maiores números da lista são {sorted(maiores)}')"
   ]
  },
  {
   "cell_type": "markdown",
   "metadata": {},
   "source": [
    "6) Faça um programa que imprima o maior número de uma lista, sem usar a função max()."
   ]
  },
  {
   "cell_type": "code",
   "execution_count": 41,
   "metadata": {},
   "outputs": [
    {
     "name": "stdout",
     "output_type": "stream",
     "text": [
      "O maior número da lista é 200\n"
     ]
    }
   ],
   "source": [
    "lista = [20, 23, 22, 20, 18, 29, -10, 100, 120, 142, 200, 100]\n",
    "\n",
    "num = sorted(lista, reverse = True).pop(0)\n",
    "\n",
    "print(f'O maior número da lista é {num}')"
   ]
  },
  {
   "cell_type": "markdown",
   "metadata": {},
   "source": [
    "7) Faça um programa que, dadas duas listas de mesmo tamanho, crie uma nova lista com cada elemento igual a soma dos elementos da lista 1 com os da lista 2, na mesma posição.\n",
    "\n",
    "Exemplo:\n",
    "\n",
    "Dadas lista1 = [1, 4, 5] e lista2 = [2, 2, 3], então lista3 = [1+2, 4+2, 5+3] = [3, 6, 8]"
   ]
  },
  {
   "cell_type": "code",
   "execution_count": 68,
   "metadata": {},
   "outputs": [
    {
     "name": "stdout",
     "output_type": "stream",
     "text": [
      "[3, 6, 8]\n"
     ]
    }
   ],
   "source": [
    "lista1 = [1, 4, 5]\n",
    "lista2 = [2, 2, 3]\n",
    "lista3 = []\n",
    "\n",
    "n = len(lista1)\n",
    "\n",
    "for i in range(0, n):\n",
    "    lista3.append(lista1[i] + lista2[i])\n",
    "   \n",
    "print(lista3)\n"
   ]
  },
  {
   "cell_type": "markdown",
   "metadata": {},
   "source": [
    "8) Faça um programa que pede para o usuário digitar 5 números e, ao final, imprime uma lista com os 5 números digitados pelo usuário (sem converter os números para int ou float).\n",
    "\n",
    "Exemplo: Se o usuário digitar 1, 5, 2, 3, 6, o programa deve imprimir a lista ['1','5','2','3','6']"
   ]
  },
  {
   "cell_type": "code",
   "execution_count": 70,
   "metadata": {},
   "outputs": [
    {
     "name": "stdout",
     "output_type": "stream",
     "text": [
      "['30', '2', '1', '4']\n"
     ]
    }
   ],
   "source": [
    "lista = []\n",
    "for i in range (0,4):\n",
    "    num = input('Digite um número: ')\n",
    "    lista.append(num)\n",
    "\n",
    "print(lista)"
   ]
  },
  {
   "cell_type": "markdown",
   "metadata": {},
   "source": [
    "9) Pegue a lista gerada no exercício anterior e transforme cada um dos itens dessa lista em um float.\n",
    "\n",
    "OBS: Não é para alterar o programa anterior, mas sim a lista gerada por ele."
   ]
  },
  {
   "cell_type": "code",
   "execution_count": 72,
   "metadata": {},
   "outputs": [
    {
     "name": "stdout",
     "output_type": "stream",
     "text": [
      "[4.5, 1.2, 2.0, 3.0]\n"
     ]
    }
   ],
   "source": [
    "lista = []\n",
    "for i in range (0,4):\n",
    "    num = input('Digite um número: ')\n",
    "    lista.append(num)\n",
    "\n",
    "# alterando a lista\n",
    "\n",
    "lista_alt = []\n",
    "for i in range (0,4):\n",
    "    lista_alt.append(float(lista[i]))\n",
    "\n",
    "print(lista_alt)"
   ]
  },
  {
   "cell_type": "markdown",
   "metadata": {},
   "source": [
    "10) Faça um programa que peça as 4 notas bimestrais e mostre a média aritmética delas, usando listas."
   ]
  },
  {
   "cell_type": "code",
   "execution_count": 82,
   "metadata": {},
   "outputs": [
    {
     "name": "stdout",
     "output_type": "stream",
     "text": [
      "A média é: 9.75\n"
     ]
    }
   ],
   "source": [
    "notas = []\n",
    "for i in range(0,4):\n",
    "    nota_bi = float(input(f'Digite a {i+1}ª nota'))\n",
    "    notas.append(nota_bi)\n",
    "media = sum(notas)/(len(notas))\n",
    "print(f'A média é: {media}')"
   ]
  },
  {
   "cell_type": "markdown",
   "metadata": {},
   "source": [
    "11) Crie uma lista de 10 números e imprima:\n",
    "\n",
    "a. uma lista com os 4 primeiros números;\n",
    "\n",
    "b. uma lista com os 5 últimos números;\n",
    "\n",
    "c. uma lista contendo apenas os elementos das posições pares;\n",
    "\n",
    "d. uma lista contendo apenas os elementos das posições ímpares;\n",
    "\n",
    "e. a lista inversa da lista sorteada (isto é, uma lista que começa com o último elemento da lista sorteada e termina com o primeiro);\n",
    "\n",
    "f. uma lista inversa dos 5 primeiros números;\n",
    "\n",
    "g. uma lista inversa dos 5 últimos números."
   ]
  },
  {
   "cell_type": "code",
   "execution_count": 27,
   "metadata": {},
   "outputs": [
    {
     "name": "stdout",
     "output_type": "stream",
     "text": [
      "[5, 4, 3, 2]\n"
     ]
    }
   ],
   "source": [
    "lista = [1, 2, 3, 4, 5, 6, 7, 8, 9, 10]\n",
    "\n",
    "# a) lista com 4 primeiros numeros\n",
    "lista_a = lista[0:4]\n",
    "\n",
    "# b) lista com os 5 últimos números\n",
    "n = len(lista)\n",
    "lista_b = lista[n-5: n]\n",
    "\n",
    "# c) lista com elementos de posições pares\n",
    "i=0\n",
    "lista_c = []\n",
    "while i < len(lista):\n",
    "        lista_c.append(lista[i])\n",
    "        i += 2\n",
    "\n",
    "# d) lista com elementos das posições ímpares\n",
    "i=1\n",
    "lista_d = []\n",
    "while i < len(lista):\n",
    "        lista_d.append(lista[i])\n",
    "        i += 2\n",
    "\n",
    "# e) a lista inversa da lista sorteada (isto é, uma lista que começa com o último elemento da lista \n",
    "#    sorteada e termina com o primeiro);\n",
    "i=1\n",
    "lista_e = []\n",
    "while i <= len(lista):\n",
    "        lista_e.append(lista[-i])\n",
    "        i += 1\n",
    "\n",
    "# f) uma lista inversa dos 5 primeiros números;\n",
    "i=1\n",
    "lista_5_primeiros = lista [0:5]\n",
    "lista_f = []\n",
    "\n",
    "while i <= len(lista_5_primeiros):\n",
    "        lista_f.append(lista_5_primeiros[-i])\n",
    "        i += 1\n",
    "\n",
    "# g) uma lista inversa dos 5 ultimos números;\n",
    "i=1\n",
    "n = len(lista)\n",
    "lista_5_ultimos = lista [n-5: n]\n",
    "lista_g1 = []\n",
    "\n",
    "while i <= len(lista_5_ultimos):\n",
    "        lista_g1.append(lista_5_ultimos[-i])\n",
    "        i += 1\n",
    "\n",
    "# outra alternativa\n",
    "n = len(lista)\n",
    "lista_g2 = lista[n: n-6: -1]\n",
    "\n",
    "\n"
   ]
  },
  {
   "cell_type": "markdown",
   "metadata": {},
   "source": [
    "12) Faça um programa que sorteia 10 números entre 0 e 100 e conte quantos números sorteados são maiores que 50.\n",
    "\n",
    "Obs.: Precisa usar a biblioteca random"
   ]
  },
  {
   "cell_type": "code",
   "execution_count": 37,
   "metadata": {},
   "outputs": [
    {
     "name": "stdout",
     "output_type": "stream",
     "text": [
      "Dentre os sorteados [19, 29, 47, 49, 50, 54, 56, 57, 65, 73], existem 5 números maiores que 50\n"
     ]
    }
   ],
   "source": [
    "from random import randint\n",
    "i = 1\n",
    "sorteados = []\n",
    "maior50 = 0\n",
    "\n",
    "while i<=10:\n",
    "    num = randint(0,100)\n",
    "    sorteados.append(num)\n",
    "    i += 1\n",
    "    if num > 50:\n",
    "        maior50 += 1\n",
    "\n",
    "\n",
    "print(f'Dentre os sorteados {sorted(sorteados)}, existem {maior50} números maiores que 50')"
   ]
  },
  {
   "cell_type": "markdown",
   "metadata": {},
   "source": [
    "13) Faça um programa que sorteie 10 números entre 0 e 100 e imprima:\n",
    "\n",
    "a. o maior número sorteado;\n",
    "\n",
    "b. o menor número sorteado;\n",
    "\n",
    "c. a média dos números sorteados;\n",
    "\n",
    "d. a soma dos números sorteados.\n",
    "\n",
    "Obs.: Precisa usar a biblioteca random"
   ]
  },
  {
   "cell_type": "code",
   "execution_count": 38,
   "metadata": {},
   "outputs": [
    {
     "name": "stdout",
     "output_type": "stream",
     "text": [
      "Dentre os sorteados [20, 27, 41, 51, 51, 70, 70, 77, 95, 100], existem 7 números maiores que 50\n"
     ]
    }
   ],
   "source": [
    "from random import randint\n",
    "i = 1\n",
    "sorteados = []\n",
    "maior50 = 0\n",
    "\n",
    "while i<=10:\n",
    "    num = randint(0,100)\n",
    "    sorteados.append(num)\n",
    "    i += 1\n",
    "    if num > 50:\n",
    "        maior50 += 1\n",
    "\n",
    "\n",
    "print(f'Dentre os sorteados {sorted(sorteados)}, existem {maior50} números maiores que 50')"
   ]
  },
  {
   "cell_type": "markdown",
   "metadata": {},
   "source": [
    "14) Super Desafio - Faça um programa que pede para o usuário digitar o CPF e verifica se ele é válido. Para isso, primeiramente o programa deve multiplicar cada um dos 9 primeiros dígitos do CPF pelos números de 10 a 2 e somar todas as respostas. O resultado deve ser multiplicado por 10 e dividido por 11. O resto dessa divisão deve ser igual ao primeiro dígito verificador (10º dígito). Em seguida, o programa deve multiplicar cada um dos 10 primeiros dígitos do CPF pelos números de 11 a 2 e repetir o procedimento anterior para verificar o segundo dígito verificador.\n",
    "\n",
    "Exemplo:\n",
    "\n",
    "Se o CPF for 286.255.878-87 o programa deve fazer primeiro:\n",
    "\n",
    "x = (2*10 + 8*9 + 6*8 + 2*7 + 5*6 + 5*5 + 8*4 + 7*3 + 8*2)\n",
    "\n",
    "Em seguida, o programa deve testar se x*10%11 == 8 (o décimo número do CPF). Se sim, o programa deve calcular:\n",
    "\n",
    "x = (2*11 + 8*10 + 6*9 + 2*8 + 5*7 + 5*6 + 8*5 + 7*4 + 8*3 + 8*2)\n",
    "\n",
    "e verificar se x*10%11 == 7 (o décimo primeiro número do CPF)."
   ]
  },
  {
   "cell_type": "code",
   "execution_count": 29,
   "metadata": {},
   "outputs": [
    {
     "name": "stdout",
     "output_type": "stream",
     "text": [
      "O CPF digitado tem o 10° dígito inválido. O digitado foi 7 e o válido é 6\n"
     ]
    }
   ],
   "source": [
    "cpf = input ('Digite um CPF de 11 dígitos, sem traços e pontos: \\n')\n",
    "\n",
    "n = 0\n",
    "cpf_9_prim = []\n",
    "\n",
    "while n < 9:\n",
    "    cpf_9_prim.append(int(cpf[n]))\n",
    "    n += 1\n",
    "\n",
    "i = 0\n",
    "cpf_9_prim_mod = []\n",
    "multiplicador = 10\n",
    "soma = 0\n",
    "\n",
    "while i < len(cpf_9_prim):\n",
    "    valor = cpf_9_prim[i] * multiplicador\n",
    "    cpf_9_prim_mod.append(valor)\n",
    "    i += 1\n",
    "    multiplicador -= 1\n",
    "    soma = soma + valor\n",
    "\n",
    "digito10 = (soma*10%11)\n",
    "\n",
    "if digito10 == int(cpf[9]):\n",
    "    cpf_10_prim = cpf_9_prim\n",
    "    cpf_10_prim.append(digito10)\n",
    "    i = 0\n",
    "    cpf_10_prim_mod = []\n",
    "    multiplicador = 11\n",
    "    soma = 0\n",
    "    while i < len(cpf_10_prim):\n",
    "        valor = cpf_10_prim[i] * multiplicador\n",
    "        cpf_10_prim_mod.append(valor)\n",
    "        i += 1\n",
    "        multiplicador -= 1\n",
    "        soma = soma + valor\n",
    "    digito11 = (soma*10%11)\n",
    "\n",
    "    if digito11 == int(cpf[10]):\n",
    "        print(f'O CPF digitado {cpf} é válido.')\n",
    "    else:\n",
    "        print(f'O CPF digitado tem o 11° dígito inválido. O digitado foi {cpf[10]} e o válido é {digito11}')\n",
    "\n",
    "\n",
    "else:\n",
    "    print(f'O CPF digitado tem o 10° dígito inválido. O digitado foi {cpf[9]} e o válido é {digito10}')\n",
    "\n"
   ]
  }
 ],
 "metadata": {
  "kernelspec": {
   "display_name": "Python 3.10.5 64-bit",
   "language": "python",
   "name": "python3"
  },
  "language_info": {
   "codemirror_mode": {
    "name": "ipython",
    "version": 3
   },
   "file_extension": ".py",
   "mimetype": "text/x-python",
   "name": "python",
   "nbconvert_exporter": "python",
   "pygments_lexer": "ipython3",
   "version": "3.10.5"
  },
  "orig_nbformat": 4,
  "vscode": {
   "interpreter": {
    "hash": "75c7325c0caecc2d82c8a4e534cbb5ce82d278e087a13a7861173b66f0f67f74"
   }
  }
 },
 "nbformat": 4,
 "nbformat_minor": 2
}
