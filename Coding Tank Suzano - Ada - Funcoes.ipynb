{
 "cells": [
  {
   "cell_type": "code",
   "execution_count": 1,
   "metadata": {},
   "outputs": [
    {
     "name": "stdout",
     "output_type": "stream",
     "text": [
      "8\n"
     ]
    }
   ],
   "source": [
    "# Função que calcula o dobro:\n",
    "def dobro(x):\n",
    "    print (2*x)\n",
    "\n",
    "dobro(4)"
   ]
  },
  {
   "cell_type": "code",
   "execution_count": 3,
   "metadata": {},
   "outputs": [
    {
     "name": "stdout",
     "output_type": "stream",
     "text": [
      "É ímpar\n"
     ]
    }
   ],
   "source": [
    "# Função que diz se é par ou não\n",
    "\n",
    "def e_par(numero):\n",
    "    resultado = \"\" \n",
    "    if (numero%2 == 0):\n",
    "        resultado = 'É par'\n",
    "    else:\n",
    "        resultado = 'É ímpar'\n",
    "    print(resultado)\n",
    "\n",
    "e_par(7)"
   ]
  },
  {
   "cell_type": "code",
   "execution_count": 13,
   "metadata": {},
   "outputs": [
    {
     "name": "stdout",
     "output_type": "stream",
     "text": [
      "45\n"
     ]
    }
   ],
   "source": [
    "# Função que soma todos os elementos de uma lista dada\n",
    "\n",
    "def somalista (lista):\n",
    "    soma = 0\n",
    "    for numero in lista:\n",
    "        soma += numero\n",
    "    print (soma)\n",
    "\n",
    "lista = [1, 2, 3, 4, 5, 6, 7, 8, 9]\n",
    "somalista (lista)\n"
   ]
  },
  {
   "cell_type": "code",
   "execution_count": 14,
   "metadata": {},
   "outputs": [
    {
     "name": "stdout",
     "output_type": "stream",
     "text": [
      "285\n"
     ]
    }
   ],
   "source": [
    "# Função que recebe uma lista e soma o quadrado dos elementos dela\n",
    "\n",
    "def somalista (lista):\n",
    "    soma = 0\n",
    "    for numero in lista:\n",
    "        soma += numero**2\n",
    "    print (soma)\n",
    "\n",
    "lista = [1, 2, 3, 4, 5, 6, 7, 8, 9]\n",
    "somalista (lista)"
   ]
  },
  {
   "cell_type": "code",
   "execution_count": 15,
   "metadata": {},
   "outputs": [
    {
     "name": "stdout",
     "output_type": "stream",
     "text": [
      "405071317\n"
     ]
    }
   ],
   "source": [
    "# Função que recebe uma lista e soma cada elemento elevado a si proprio\n",
    "\n",
    "def somalista (lista):\n",
    "    soma = 0\n",
    "    for numero in lista:\n",
    "        soma += numero**numero\n",
    "    print (soma)\n",
    "\n",
    "lista = [1, 2, 3, 4, 5, 6, 7, 8, 9]\n",
    "somalista (lista)"
   ]
  },
  {
   "cell_type": "code",
   "execution_count": 17,
   "metadata": {},
   "outputs": [
    {
     "name": "stdout",
     "output_type": "stream",
     "text": [
      "276\n",
      "276\n"
     ]
    }
   ],
   "source": [
    "# Função que recebe uma lista e soma cada numero elevado a um exponte\n",
    "\n",
    "def soma_potencias(lista_de_numeros, expoente):\n",
    "    soma = 0\n",
    "    for numero in lista_de_numeros:\n",
    "        soma += numero **expoente\n",
    "\n",
    "    print (soma)\n",
    "\n",
    "soma_potencias ([1,2,3], 5)\n",
    "\n",
    "soma_potencias (expoente = 5, lista_de_numeros = [1,2,3])\n"
   ]
  },
  {
   "cell_type": "code",
   "execution_count": 18,
   "metadata": {},
   "outputs": [
    {
     "name": "stdout",
     "output_type": "stream",
     "text": [
      "276\n",
      "276\n"
     ]
    }
   ],
   "source": [
    "# Função que recebe uma lista e soma cada numero elevado a um exponte\n",
    "\n",
    "# Com uso de 2 default, a entrada do expoente só pode ser inteiro.\n",
    "def soma_potencias(lista_de_numeros, expoente = 2):\n",
    "    soma = 0\n",
    "    for numero in lista_de_numeros:\n",
    "        soma += numero **expoente\n",
    "\n",
    "    print (soma)\n",
    "\n",
    "soma_potencias ([1,2,3], 5)\n",
    "\n",
    "soma_potencias (expoente = 5, lista_de_numeros = [1,2,3])"
   ]
  },
  {
   "cell_type": "code",
   "execution_count": 21,
   "metadata": {},
   "outputs": [
    {
     "data": {
      "text/plain": [
       "14"
      ]
     },
     "execution_count": 21,
     "metadata": {},
     "output_type": "execute_result"
    }
   ],
   "source": [
    "# Função que recebe uma lista e soma cada numero elevado a um expoente\n",
    "\n",
    "# Com uso de 2 default, a entrada do expoente só pode ser inteiro. Uso de return\n",
    "def soma_potencias(lista_de_numeros, expoente = 2):\n",
    "    soma = 0\n",
    "    for numero in lista_de_numeros:\n",
    "        soma += numero **expoente\n",
    "    ultimo_numero = numero\n",
    "\n",
    "    return soma, ultimo_numero\n",
    "\n",
    "resultado = soma_potencias([1,2,3])\n",
    "\n",
    "resultado[0]\n",
    "resultado[1]\n",
    "\n"
   ]
  },
  {
   "cell_type": "code",
   "execution_count": 30,
   "metadata": {},
   "outputs": [
    {
     "name": "stdout",
     "output_type": "stream",
     "text": [
      "9\n"
     ]
    }
   ],
   "source": [
    "# Faça um programa, com uma função que necessite de um argumento, a função fornece a soma dos argumentos\n",
    "\n",
    "def soma (n1, n2, n3):\n",
    "    resultado = n1 + n2 + n3\n",
    "    return resultado\n",
    "\n",
    "print(soma(2,3, 4))"
   ]
  },
  {
   "cell_type": "code",
   "execution_count": 33,
   "metadata": {},
   "outputs": [
    {
     "name": "stdout",
     "output_type": "stream",
     "text": [
      "N\n"
     ]
    }
   ],
   "source": [
    "# Faça um programa com uma função que necessite de um argumento. A função retorna o valor de caractere 'P' se seu argumento for positivo.\n",
    "# e 'N ' se for negativo ou zero\n",
    "\n",
    "def p_ou_n (x):\n",
    "    if x > 0:\n",
    "        caractere = 'P'\n",
    "    else:\n",
    "        caractere = 'N'\n",
    "    return caractere\n",
    "print(p_ou_n(-12))"
   ]
  },
  {
   "cell_type": "code",
   "execution_count": 35,
   "metadata": {},
   "outputs": [
    {
     "name": "stdout",
     "output_type": "stream",
     "text": [
      "N\n"
     ]
    }
   ],
   "source": [
    "# Alternativa\n",
    "def verifica(numero):\n",
    "    if (numero > 0):\n",
    "        return \"P\"\n",
    "    return \"N\"\n",
    "\n",
    "print(verifica(-2))"
   ]
  },
  {
   "cell_type": "code",
   "execution_count": 1,
   "metadata": {},
   "outputs": [
    {
     "name": "stdout",
     "output_type": "stream",
     "text": [
      "5.0\n"
     ]
    }
   ],
   "source": [
    "# Calculadora que receba 2 números e a operação por extenso\n",
    "\n",
    "def calc(n1, n2, op):\n",
    "    if op == 'soma':\n",
    "        resultado = n1 + n2\n",
    "    elif op == 'subtraçao':\n",
    "        resultado = n1 - n2\n",
    "    elif op == 'divisao':\n",
    "        resultado = n1/n2\n",
    "    elif op == 'multiplicacao':\n",
    "        resultado = n1*n2\n",
    "    elif op == 'potenciacao':\n",
    "        resultado == n1**n2\n",
    "    else:\n",
    "        print('Operação não suportada')\n",
    "    return resultado\n",
    "\n",
    "n1 = float(input('Digite o primeiro numero: '))\n",
    "n2 = float(input('Digite o segundo numero: '))\n",
    "op = input('Digite a operação: ')\n",
    "\n",
    "print(calc(n1,n2,op))\n",
    "\n",
    "\n"
   ]
  },
  {
   "cell_type": "markdown",
   "metadata": {},
   "source": [
    "1) Faça uma função que recebe um número e imprime seu dobro."
   ]
  },
  {
   "cell_type": "code",
   "execution_count": 11,
   "metadata": {},
   "outputs": [
    {
     "name": "stdout",
     "output_type": "stream",
     "text": [
      "O dobro de -120.2 é -240.4\n"
     ]
    }
   ],
   "source": [
    "def dobro (x):\n",
    "    resultado = 2*x\n",
    "    return resultado\n",
    "\n",
    "x = float(input('Digite o número que deseja duplicar: '))\n",
    "print(f'O dobro de {x} é {dobro(x)}')"
   ]
  },
  {
   "cell_type": "markdown",
   "metadata": {},
   "source": [
    "2) Faça uma função que recebe o valor do raio de um círculo e retorna o valor do comprimento de sua circunferência: C = 2*pi*r."
   ]
  },
  {
   "cell_type": "code",
   "execution_count": 14,
   "metadata": {},
   "outputs": [
    {
     "name": "stdout",
     "output_type": "stream",
     "text": [
      "O comprimento de uma circunferência de raio 10.0 é 62.83\n"
     ]
    }
   ],
   "source": [
    "from cmath import pi\n",
    "\n",
    "\n",
    "def comprimento (raio):\n",
    "    resultado = 2*pi*raio\n",
    "    return resultado\n",
    "\n",
    "raio = float(input('Digite o Raio: '))\n",
    "print(f'O comprimento de uma circunferência de raio {raio} é {round(comprimento(raio), 2)}')"
   ]
  },
  {
   "cell_type": "markdown",
   "metadata": {},
   "source": [
    "3) Faça uma função para cada operação matemática básica (soma, subtração, multiplicação e divisão). As funções devem receber dois números e retornar o resultado da operação."
   ]
  },
  {
   "cell_type": "code",
   "execution_count": 17,
   "metadata": {},
   "outputs": [
    {
     "name": "stdout",
     "output_type": "stream",
     "text": [
      "A soma de 10.0 e 5.0 é 15.0\n",
      "A subtração de 10.0 e 5.0 é 5.0\n",
      "A multiplicação de 10.0 e 5.0 é 50.0\n",
      "A divisão de 10.0 e 5.0 é 2.0\n"
     ]
    }
   ],
   "source": [
    "def soma (a, b):\n",
    "    resultado = a + b\n",
    "    return resultado\n",
    "\n",
    "def subt (a, b):\n",
    "    resultado = a - b\n",
    "    return resultado\n",
    "\n",
    "def mult (a, b):\n",
    "    resultado = a * b\n",
    "    return resultado\n",
    "\n",
    "def div (a, b):\n",
    "    resultado = a / b\n",
    "    return resultado\n",
    "\n",
    "a = float(input('Digite o primeiro numero: '))\n",
    "b = float(input('Digite o segundo numero: '))\n",
    "\n",
    "print (f'A soma de {a} e {b} é {soma(a,b)}')\n",
    "print (f'A subtração {a} por {b} é {subt(a,b)}')\n",
    "print (f'A multiplicação entre {a} e {b} é {mult(a,b)}')\n",
    "print (f'A divisão entre {a} e {b} é {div(a,b)}')\n",
    "\n"
   ]
  },
  {
   "cell_type": "markdown",
   "metadata": {},
   "source": [
    "4) Faça uma função que recebe um nome e imprime “olá, [nome]”."
   ]
  },
  {
   "cell_type": "code",
   "execution_count": 18,
   "metadata": {},
   "outputs": [
    {
     "name": "stdout",
     "output_type": "stream",
     "text": [
      "Olá, Dário\n"
     ]
    }
   ],
   "source": [
    "def saudar (nome):\n",
    "    print(f'olá, {nome}')\n",
    "\n",
    "saudar('Dário')"
   ]
  },
  {
   "cell_type": "markdown",
   "metadata": {},
   "source": [
    "5) Faça uma função que recebe um nome e um horário e imprime “Bom dia, [nome]”, caso seja antes de 12h, “Boa Tarde, [nome]”, caso seja entre 12h e 18h e “Boa noite, [nome]” se for após às 18h."
   ]
  },
  {
   "cell_type": "code",
   "execution_count": 24,
   "metadata": {},
   "outputs": [
    {
     "name": "stdout",
     "output_type": "stream",
     "text": [
      "Bom dia, Dário\n"
     ]
    }
   ],
   "source": [
    "def saudar_horario(nome, hora):\n",
    "    if hora <= 12:\n",
    "        print(f'Bom dia, {nome}')\n",
    "    elif hora <= 18:\n",
    "        print(f'Boa tarde, {nome}')\n",
    "    else:\n",
    "        print(f'Boa noite, {nome}')\n",
    "\n",
    "nome = input('Digite seu nome: ')\n",
    "data_input = input('Digite um horário (hh:mm): ')\n",
    "data = int(data_input[0] + data_input[1])\n",
    "\n",
    "saudar_horario (nome, data)\n"
   ]
  },
  {
   "cell_type": "markdown",
   "metadata": {},
   "source": [
    "6) Faça uma função que recebe um número e retorna True se ele é par ou False, se ele é ímpar."
   ]
  },
  {
   "cell_type": "code",
   "execution_count": 28,
   "metadata": {},
   "outputs": [
    {
     "data": {
      "text/plain": [
       "False"
      ]
     },
     "execution_count": 28,
     "metadata": {},
     "output_type": "execute_result"
    }
   ],
   "source": [
    "def par_impar(num):\n",
    "    if num%2 == 0:\n",
    "        return True\n",
    "    else:\n",
    "        return False\n",
    "\n",
    "\n",
    "par_impar(43)"
   ]
  },
  {
   "cell_type": "markdown",
   "metadata": {},
   "source": [
    "7) Faça uma função que sorteia 10 números aleatórios entre 0 e 100 e retorna o maior entre eles."
   ]
  },
  {
   "cell_type": "code",
   "execution_count": 58,
   "metadata": {},
   "outputs": [
    {
     "data": {
      "text/plain": [
       "(82, [33, 82, 65, 63, 81, 1, 61, 15, 15, 71])"
      ]
     },
     "execution_count": 58,
     "metadata": {},
     "output_type": "execute_result"
    }
   ],
   "source": [
    "from random import randint\n",
    "\n",
    "#  x = numero de números sorteados\n",
    "def sorteio (x=10):\n",
    "    aux = 0\n",
    "    lista_num = []\n",
    "    \n",
    "    while aux < x:\n",
    "        num_sorteado = randint(0, 100)\n",
    "        lista_num.append(num_sorteado)\n",
    "        aux += 1\n",
    "    maior = max(lista_num)\n",
    "    return maior, lista_num\n",
    "\n",
    "\n",
    "sorteio()"
   ]
  },
  {
   "cell_type": "markdown",
   "metadata": {},
   "source": [
    "8) Faça uma função que recebe um número n de entrada, sorteia n números aleatórios entre 0 e 100 e retorna a média deles."
   ]
  },
  {
   "cell_type": "code",
   "execution_count": 2,
   "metadata": {},
   "outputs": [
    {
     "data": {
      "text/plain": [
       "58.2"
      ]
     },
     "execution_count": 2,
     "metadata": {},
     "output_type": "execute_result"
    }
   ],
   "source": [
    "from random import randint\n",
    "\n",
    "#  x = numero de números sorteados\n",
    "def sorteio (x):\n",
    "    aux = 0\n",
    "    lista_num = []\n",
    "    \n",
    "    while aux < x:\n",
    "        num_sorteado = randint(0, 100)\n",
    "        lista_num.append(num_sorteado)\n",
    "        aux += 1\n",
    "    media = sum(lista_num)/x\n",
    "    return media\n",
    "\n",
    "\n",
    "sorteio(5)"
   ]
  },
  {
   "cell_type": "markdown",
   "metadata": {},
   "source": [
    "9) Faça uma função que recebe uma lista de palavras e retorna uma lista contendo as mesmas palavras da lista anterior, porém escritas em caixa alta."
   ]
  },
  {
   "cell_type": "code",
   "execution_count": 8,
   "metadata": {},
   "outputs": [
    {
     "data": {
      "text/plain": [
       "['WOW', 'CASA', 'CARRO']"
      ]
     },
     "execution_count": 8,
     "metadata": {},
     "output_type": "execute_result"
    }
   ],
   "source": [
    "def caixa_alta(lista):\n",
    "    resultado = []\n",
    "    indice = 0\n",
    "    for palavra in lista:\n",
    "        resultado.append(lista[indice].upper())\n",
    "        indice +=1\n",
    "    return resultado\n",
    "\n",
    "lista = ['wow','casa', 'carro']\n",
    "caixa_alta(lista)"
   ]
  },
  {
   "cell_type": "markdown",
   "metadata": {},
   "source": [
    "10) Faça uma função que recebe duas listas e retorna a soma item a item dessas listas.\n",
    "\n",
    "Exemplo: Se a função receber as listas [1,4,3] e [3,5,1], então a função deve retornar [1+3, 4+5, 3+1] = [4, 9, 4]."
   ]
  },
  {
   "cell_type": "code",
   "execution_count": 10,
   "metadata": {},
   "outputs": [
    {
     "data": {
      "text/plain": [
       "[4, 9, 4]"
      ]
     },
     "execution_count": 10,
     "metadata": {},
     "output_type": "execute_result"
    }
   ],
   "source": [
    "def soma_listas(lista1, lista2):\n",
    "    indice = 0\n",
    "    resultado = []\n",
    "    while indice < len(lista1):\n",
    "        resultado.append(lista1[indice] + lista2[indice])\n",
    "        indice +=1\n",
    "    return resultado\n",
    "\n",
    "lista1 = [1,4,3]\n",
    "lista2 = [3,5,1]\n",
    "\n",
    "soma_listas(lista1, lista2)"
   ]
  },
  {
   "cell_type": "markdown",
   "metadata": {},
   "source": [
    "11) Faça uma função que recebe um número x e uma lista numérica e retorna uma lista cujos elementos são os itens da lista de entrada multiplicado por x.\n",
    "\n",
    "Exemplo:\n",
    "\n",
    "Se a função receber o número 5 e a lista [3,5,1], então a função deve retornar [5x3, 5x5, 5x1] = [15, 25, 5]."
   ]
  },
  {
   "cell_type": "code",
   "execution_count": 13,
   "metadata": {},
   "outputs": [
    {
     "data": {
      "text/plain": [
       "[15, 25, 5]"
      ]
     },
     "execution_count": 13,
     "metadata": {},
     "output_type": "execute_result"
    }
   ],
   "source": [
    "def mult_lista(lista, multiplicador):\n",
    "    indice = 0\n",
    "    resultado = []\n",
    "    while indice < len(lista):\n",
    "        resultado.append(lista[indice]*multiplicador)\n",
    "        indice +=1\n",
    "    return resultado\n",
    "\n",
    "\n",
    "mult_lista([3,5,1], 5) "
   ]
  },
  {
   "cell_type": "markdown",
   "metadata": {},
   "source": [
    "12) Faça uma função que receba duas listas e retorne o produto item a item dessas listas.\n",
    "\n",
    "Exemplo: Se a função receber as listas [1,4,3] e [3,5,1], então a função deve retornar [1x3, 4x5, 3x1] = [3, 20, 3]."
   ]
  },
  {
   "cell_type": "code",
   "execution_count": 14,
   "metadata": {},
   "outputs": [
    {
     "data": {
      "text/plain": [
       "[3, 20, 3]"
      ]
     },
     "execution_count": 14,
     "metadata": {},
     "output_type": "execute_result"
    }
   ],
   "source": [
    "def mult_listas(lista1, lista2):\n",
    "    indice = 0\n",
    "    resultado = []\n",
    "    while indice < len(lista1):\n",
    "        resultado.append(lista1[indice] * lista2[indice])\n",
    "        indice +=1\n",
    "    return resultado\n",
    "\n",
    "lista1 = [1,4,3]\n",
    "lista2 = [3,5,1]\n",
    "\n",
    "mult_listas(lista1, lista2)"
   ]
  },
  {
   "cell_type": "markdown",
   "metadata": {},
   "source": [
    "13) Faça uma função que recebe uma lista de números e retorna a soma dos elementos dessa lista."
   ]
  },
  {
   "cell_type": "code",
   "execution_count": 16,
   "metadata": {},
   "outputs": [
    {
     "data": {
      "text/plain": [
       "49"
      ]
     },
     "execution_count": 16,
     "metadata": {},
     "output_type": "execute_result"
    }
   ],
   "source": [
    "def soma_lista (lista):\n",
    "    indice = 0\n",
    "    resultado = 0\n",
    "    while indice < len(lista):\n",
    "        resultado += lista[indice]\n",
    "        indice +=1\n",
    "    return resultado\n",
    "\n",
    "lista1 = [1,4,3, 9, 10, 22]\n",
    "soma_lista(lista1)"
   ]
  },
  {
   "cell_type": "markdown",
   "metadata": {},
   "source": [
    "14) Faça uma função que recebe uma lista de números e retorna a média aritmética dos elementos dessa lista."
   ]
  },
  {
   "cell_type": "code",
   "execution_count": 17,
   "metadata": {},
   "outputs": [
    {
     "data": {
      "text/plain": [
       "8.166666666666666"
      ]
     },
     "execution_count": 17,
     "metadata": {},
     "output_type": "execute_result"
    }
   ],
   "source": [
    "def media_lista (lista):\n",
    "    indice = 0\n",
    "    resultado = 0\n",
    "    while indice < len(lista):\n",
    "        resultado += lista[indice]\n",
    "        indice +=1\n",
    "    resultado = resultado/indice\n",
    "    return resultado\n",
    "\n",
    "lista1 = [1,4,3, 9, 10, 22]\n",
    "\n",
    "media_lista(lista1)"
   ]
  },
  {
   "cell_type": "markdown",
   "metadata": {},
   "source": [
    "15) Desafio 1 - Faça uma função que receba um número e calcule seu fatorial."
   ]
  },
  {
   "cell_type": "code",
   "execution_count": 1,
   "metadata": {},
   "outputs": [
    {
     "data": {
      "text/plain": [
       "120"
      ]
     },
     "execution_count": 1,
     "metadata": {},
     "output_type": "execute_result"
    }
   ],
   "source": [
    "def fatorial (x):\n",
    "    if x < 0:\n",
    "        print('Digite um número positivo')\n",
    "        \n",
    "    elif x == 0:\n",
    "        resultado = 1\n",
    "    else: \n",
    "        contador = 1\n",
    "        resultado = 1\n",
    "        while contador <= x:\n",
    "            resultado *= contador\n",
    "            contador += 1  \n",
    "    return resultado\n",
    "\n",
    "fatorial (5)    \n",
    "    "
   ]
  },
  {
   "cell_type": "markdown",
   "metadata": {},
   "source": [
    "16) Desafio 3 - A sequência Fibonacci é a sequência cujos dois primeiros termos são 1 e os demais são obtidos através da soma de seus dois antecessores, isso é:\n",
    "\n",
    "a. Fibonacci(1) = 1 e Fibonacci(2) = 2;\n",
    "\n",
    "b. dado qualquer número n >= 3, Fibonacci(n) = Fibonacci(n-1) + Fibonacci(n-2)\n",
    "\n",
    "Assim, os 10 primeiros termos da sequência Fibonacci são:\n",
    "\n",
    "1, 1, 2, 3, 5, 8, 13, 21, 34, 55…\n",
    "Faça uma função que receba um número n e calcule o termo de número n da sequência Fibonacci."
   ]
  },
  {
   "cell_type": "code",
   "execution_count": 42,
   "metadata": {},
   "outputs": [
    {
     "data": {
      "text/plain": [
       "89"
      ]
     },
     "execution_count": 42,
     "metadata": {},
     "output_type": "execute_result"
    }
   ],
   "source": [
    "def fibonacci (n):\n",
    "    sequencia = [1,1]\n",
    "    indice = 2\n",
    "    resultado = 0\n",
    "\n",
    "    while indice <= n:\n",
    "        sequencia.append(sequencia[indice-1] + sequencia[indice-2])\n",
    "        indice += 1\n",
    "    resultado = sequencia [n]\n",
    "    return resultado\n",
    "\n",
    "fibonacci (10)"
   ]
  },
  {
   "cell_type": "markdown",
   "metadata": {},
   "source": [
    "17) Super Desafio! - Repita o exercício anterior usando recursão, ou seja, uma função que chame ela mesma, lembrando que 3! = 3*2!, que 2! = 2*1!, que 1! = 1*0! e que 0! = 1."
   ]
  },
  {
   "cell_type": "code",
   "execution_count": 5,
   "metadata": {},
   "outputs": [
    {
     "name": "stdout",
     "output_type": "stream",
     "text": [
      "720\n"
     ]
    }
   ],
   "source": [
    "# Supondo que esse exercício referido é o do fatorial:\n",
    "\n",
    "def fatorial(num):\n",
    "    if num == 1 or num ==0 :\n",
    "        return 1\n",
    "    elif num < 0:\n",
    "        return print('Digite um número não negativo.')\n",
    "    else:\n",
    "        return num * (fatorial(num - 1))\n",
    "\n",
    "print(fatorial(6))\n"
   ]
  },
  {
   "cell_type": "markdown",
   "metadata": {},
   "source": [
    "18) Desafio 2 - Faça uma função que recebe duas entradas: um input dado pelo usuário e um string que informa o tipo de dado (\"idade\", \"salário\" ou \"sexo\"), e verifica se os dados digitados foram válidos, usando os seguintes critérios:\n",
    "\n",
    "a. Idade: entre 0 e 150;\n",
    "\n",
    "b. Salário: maior que 0;\n",
    "\n",
    "c. Sexo: M, F ou Outro."
   ]
  },
  {
   "cell_type": "code",
   "execution_count": 73,
   "metadata": {},
   "outputs": [
    {
     "data": {
      "text/plain": [
       "'Idade fora da faixa.'"
      ]
     },
     "execution_count": 73,
     "metadata": {},
     "output_type": "execute_result"
    }
   ],
   "source": [
    "def valida(dados, tipo):\n",
    "    if  tipo == 'sexo':\n",
    "        if dados == 'M' or 'F' or \"Outro\":\n",
    "            resultado = 'Dados de sexo válidos'\n",
    "        else:\n",
    "            resultado = 'Sexo inválido'\n",
    "    elif tipo == 'idade':\n",
    "        if dados < 0 or dados > 150:\n",
    "            resultado = 'Idade fora da faixa.'\n",
    "        else:\n",
    "            resultado = 'Dados de idade válidos'\n",
    "    elif tipo == 'salário' or tipo == 'salario':\n",
    "        if dados <= 0:\n",
    "            resultado = 'Salário fora da faixa'\n",
    "        else:\n",
    "            resultado = 'Dados de salário válidos'\n",
    "    else:\n",
    "        resultado = 'Tipo de dados inválido'\n",
    "    return resultado\n",
    "\n",
    "valida (180,'idade')\n",
    "        \n"
   ]
  },
  {
   "cell_type": "markdown",
   "metadata": {},
   "source": [
    "19) Super Desafio! - Refaça o desafio 3 usando recursão."
   ]
  },
  {
   "cell_type": "code",
   "execution_count": 10,
   "metadata": {},
   "outputs": [
    {
     "data": {
      "text/plain": [
       "3"
      ]
     },
     "execution_count": 10,
     "metadata": {},
     "output_type": "execute_result"
    }
   ],
   "source": [
    "def fibonacci (num):\n",
    "    if num == 1 or num == 2:\n",
    "        return 1\n",
    "    else:\n",
    "        x = fibonacci(num-1) + fibonacci(num-2)\n",
    "        return x\n",
    "\n",
    "fibonacci (4)\n"
   ]
  },
  {
   "cell_type": "markdown",
   "metadata": {},
   "source": [
    "20) Super Desafio! - Faça um jogo de BlackJack usando funções: o BlackJack, ou Vinte e Um, é um jogo em que os jogadores podem comprar cartas livremente, enquanto tiverem menos de 21 pontos. No nosso jogo, o Ás vale um ponto; as cartas de 2 a 10 valem o número de pontos que elas representam; e Valete, Dama e Rei valem 10 pontos cada. Ganha o jogador que tiver o maior número de pontos, desde que este seja menor ou igual a 21. Nosso jogo deve ter as seguintes funções:\n",
    "\n",
    "a. Função principal: a função que vamos chamar para iniciar o jogo. Essa função não irá receber nem retornar nenhuma variável. Ela deve perguntar o número de jogadores participantes e o nome de cada um. Em seguida ela chama as outras funções do jogo.\n",
    "\n",
    "b. Função para criar o baralho: essa função deve criar um baralho (uma lista) com as cartas do baralho.\n",
    "\n",
    "c. Função para a jogada: essa função deve receber o nome do jogador que irá realizar a jogada e, caso ele ainda esteja ativo (tenha menos de 21 pontos e ainda não tenha desistido de comprar cartas) deve perguntar se ele quer comprar uma carta. Se ele responder que sim, a função deve chamar a próxima função para sortear uma carta e somar o valor retornado na pontuação do jogador; se ele responder que não, a função deve desativar o jogador para que ele não possa mais comprar cartas; Essa função só deve ser chamada enquanto houver jogadores ativos.\n",
    "\n",
    "d. Função para o sorteio: essa função retira uma carta aleatória do baralho e retorna o número de pontos que essa carta vale.\n",
    "\n",
    "e. Função verificação: verifica e indica qual/quais jogador/jogadores tem o maior número de pontos, que seja menor ou igual a 21."
   ]
  },
  {
   "cell_type": "markdown",
   "metadata": {},
   "source": [
    "21) Super desafio! Faça um sistema de cadastro de clientes. Modele cada cliente como uma lista de três elementos: nome, CPF e e-mail.\n",
    "\n",
    "a. Faça uma função que peça o nome, o CPF e o e-mail da pessoa e retorne uma lista contendo esses elementos nessa ordem.\n",
    "\n",
    "b. Os clientes cadastrados devem ser armazenados em uma lista (uma lista de listas, já que cada cliente será uma lista tal como produzido no item a).\n",
    "\n",
    "c. Faça uma função que recebe a lista do item b) e um CPF e, se esse cliente estiver na lista de cadastro, sua função deve devolver a lista de dados desse cliente; caso contrário, sua função deve imprimir “não encontrado”.\n",
    "\n",
    "d. Enquanto não for digitado 0, o seu programa deve continuar rodando. Se digitado 1, seu programa deve cadastrar um novo cliente; se digitado 2, seu programa deve pedir um CPF e procurá-lo na lista de clientes (item c); se digitado 3, seu programa deve imprimir todos os clientes cadastrados."
   ]
  }
 ],
 "metadata": {
  "kernelspec": {
   "display_name": "Python 3.10.5 64-bit",
   "language": "python",
   "name": "python3"
  },
  "language_info": {
   "codemirror_mode": {
    "name": "ipython",
    "version": 3
   },
   "file_extension": ".py",
   "mimetype": "text/x-python",
   "name": "python",
   "nbconvert_exporter": "python",
   "pygments_lexer": "ipython3",
   "version": "3.10.5"
  },
  "orig_nbformat": 4,
  "vscode": {
   "interpreter": {
    "hash": "75c7325c0caecc2d82c8a4e534cbb5ce82d278e087a13a7861173b66f0f67f74"
   }
  }
 },
 "nbformat": 4,
 "nbformat_minor": 2
}
