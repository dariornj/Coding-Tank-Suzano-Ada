{
 "cells": [
  {
   "cell_type": "code",
   "execution_count": 2,
   "metadata": {},
   "outputs": [
    {
     "name": "stdout",
     "output_type": "stream",
     "text": [
      "Este triangulo é equilátero\n"
     ]
    }
   ],
   "source": [
    "# Programa para verificar a possibilidade de formação de um triângulo e o tipo de triângulo formado.\n",
    "\n",
    "x = float(input('Digite um lado: '))\n",
    "y = float(input('Digite um lado: '))\n",
    "z = float(input('Digite um lado: '))\n",
    "\n",
    "if x + y <= z or x + z <= y or z + y <= x:\n",
    "    print('Não é possível formar triangulos com esses lados.')\n",
    "elif x == y and y == z:\n",
    "    print('Este triangulo é equilátero')\n",
    "elif x !=y and y != z:\n",
    "    print('Este triângulo é escaleno')\n",
    "else:\n",
    "    print('Este triangulo é isósceles.')"
   ]
  },
  {
   "cell_type": "code",
   "execution_count": null,
   "metadata": {},
   "outputs": [
    {
     "name": "stdout",
     "output_type": "stream",
     "text": [
      "fizzbuzz\n"
     ]
    }
   ],
   "source": [
    "# Crie um programa que receba um número e imprima \"fizz\" se o número for multiplo de 3, \n",
    "# \"buzz\" se for multiplo de 5 e \"fizzbuzz\" se for multiplo de 3 e 5\n",
    "\n",
    "num = int(input('Digite o número: '))\n",
    "\n",
    "if (num % 3 == 0) and (num % 5 == 0):\n",
    "    print('fizzbuzz')\n",
    "elif (num % 3 == 0):\n",
    "    print('fizz')\n",
    "elif (num % 5 == 0):\n",
    "    print('buzz')\n",
    "else: \n",
    "    print(num)"
   ]
  },
  {
   "cell_type": "code",
   "execution_count": null,
   "metadata": {},
   "outputs": [
    {
     "name": "stdout",
     "output_type": "stream",
     "text": [
      "Bem vindo a cadastro: \n",
      "\n",
      "Bem vindo ds3w!\n"
     ]
    }
   ],
   "source": [
    "# Pede nome e telefone e sai do programa se solicitado.\n",
    "\n",
    "controle = True\n",
    "\n",
    "while (controle == True):\n",
    "    print(\"Bem vindo a cadastro: \\n\")\n",
    "    nome = input('Digite seu nome: ')\n",
    "    telefone = int(input('Digite seu telefone: '))\n",
    "\n",
    "    print(f'Bem vindo {nome}!')\n",
    "\n",
    "    sair = input('Deseja sair? s/n ')\n",
    "    \n",
    "    if (sair == 's'):\n",
    "        controle = False   \n",
    "\n"
   ]
  },
  {
   "cell_type": "code",
   "execution_count": null,
   "metadata": {},
   "outputs": [
    {
     "name": "stdout",
     "output_type": "stream",
     "text": [
      "Bem vindo a cadastro: \n",
      "\n",
      "Bem vindo ds!\n"
     ]
    }
   ],
   "source": [
    "# Alternativa do problema anterior utilizando break\n",
    "\n",
    "while (True):\n",
    "    print(\"Bem vindo a cadastro: \\n\")\n",
    "    nome = input('Digite seu nome: ')\n",
    "    telefone = int(input('Digite seu telefone: '))\n",
    "\n",
    "    print(f'Bem vindo {nome}!')\n",
    "\n",
    "    sair = input('Deseja sair? s/n ')\n",
    "    \n",
    "    if (sair == 's'):\n",
    "        break   "
   ]
  },
  {
   "cell_type": "code",
   "execution_count": null,
   "metadata": {},
   "outputs": [
    {
     "name": "stdout",
     "output_type": "stream",
     "text": [
      "Favor aumente a proposta: \n",
      "Favor aumente a proposta: \n",
      "Maravilha! Encerrando o loop.\n"
     ]
    }
   ],
   "source": [
    "# Exercício sobre análise de proposta de salário\n",
    "\n",
    "sal_desejado = float(input('Digite o salario desejado:'))\n",
    "sal_informado = 0\n",
    "\n",
    "while(True):\n",
    "    sal_informado = int(float(input('Digite um novo salário oferecido:')))\n",
    "    \n",
    "    if sal_informado <= sal_desejado:\n",
    "        print('Favor aumente a proposta: ')\n",
    "    else:\n",
    "        print('Maravilha! Encerrando o loop.')\n",
    "        break\n",
    "\n",
    "\n"
   ]
  },
  {
   "cell_type": "code",
   "execution_count": 3,
   "metadata": {},
   "outputs": [
    {
     "name": "stdout",
     "output_type": "stream",
     "text": [
      "Por favor tente novamente. A palavra S]W não é a certa.\n",
      "Por favor tente novamente. A palavra CD não é a certa.\n",
      "Por favor tente novamente. A palavra PARAPARE não é a certa.\n",
      "Por favor tente novamente. A palavra PAREPARE não é a certa.\n",
      "Por favor tente novamente. A palavra PAREP não é a certa.\n",
      "Por favor tente novamente. A palavra AREP não é a certa.\n",
      "Parabéns, a palavra é PARE\n"
     ]
    }
   ],
   "source": [
    "# Digitar palavra até digitar duas palavras que forem PARE\n",
    "\n",
    "while (True):\n",
    "    primeira = input('Digite a primeira palavra: ').upper()\n",
    "    segunda = input('Digite a segunda palavra: ').upper()\n",
    "\n",
    "    palavra = primeira + segunda\n",
    "\n",
    "    if palavra != 'PARE':\n",
    "        print (f'Por favor tente novamente. A palavra {palavra} não é a certa.')\n",
    "    else:\n",
    "        print ('Parabéns, a palavra é PARE')\n",
    "        break\n",
    "\n"
   ]
  },
  {
   "cell_type": "code",
   "execution_count": null,
   "metadata": {},
   "outputs": [
    {
     "name": "stdout",
     "output_type": "stream",
     "text": [
      " hoje fui passear e pare\n"
     ]
    }
   ],
   "source": [
    "# Digitar palavra até digitar PARE\n",
    "\n",
    "texto = \"\"\n",
    "while (True):\n",
    "    palavra = input('Digite uma palavra: ')\n",
    "       \n",
    "    if palavra == 'PARE':\n",
    "        break\n",
    "\n",
    "    texto = texto + \" \" + palavra\n",
    "\n",
    "print(texto)\n",
    "\n"
   ]
  },
  {
   "cell_type": "markdown",
   "metadata": {},
   "source": [
    "1) Faça um programa que peça ao usuário um número e imprima todos os números de um até o número dado."
   ]
  },
  {
   "cell_type": "code",
   "execution_count": null,
   "metadata": {},
   "outputs": [
    {
     "name": "stdout",
     "output_type": "stream",
     "text": [
      "1\n",
      "2\n",
      "3\n"
     ]
    }
   ],
   "source": [
    "n = int(input('Digite um número: \\n'))\n",
    "aux = 1\n",
    "\n",
    "while aux <= n:\n",
    "    print(aux)\n",
    "    aux += 1"
   ]
  },
  {
   "cell_type": "markdown",
   "metadata": {},
   "source": [
    "2) Peça ao usuário para digitar um número e imprima o fatorial de n."
   ]
  },
  {
   "cell_type": "code",
   "execution_count": null,
   "metadata": {},
   "outputs": [
    {
     "name": "stdout",
     "output_type": "stream",
     "text": [
      "Não é possível determinar o fatorial de -100 por ser negativo. Tente novamente.\n"
     ]
    }
   ],
   "source": [
    "num = int(input('Digite um número: '))\n",
    "num_original = num\n",
    "fatorial = num\n",
    "\n",
    "if num < 0:\n",
    "    print(f'Não é possível determinar o fatorial de {num_original} por ser negativo. Tente novamente.')\n",
    "elif num == 0:\n",
    "    print('O fatorial de 0 é 1.')\n",
    "else:\n",
    "    while num > 1:\n",
    "        fatorial = fatorial*(num-1)\n",
    "        num -= 1\n",
    "    print(f'O fatorial de {num_original} é {fatorial}')    "
   ]
  },
  {
   "cell_type": "markdown",
   "metadata": {},
   "source": [
    "3) Peça ao usuário para digitar um número N e some todos os números de 1 a N utilizando o laço de repetição while."
   ]
  },
  {
   "cell_type": "code",
   "execution_count": null,
   "metadata": {},
   "outputs": [
    {
     "name": "stdout",
     "output_type": "stream",
     "text": [
      "A soma dos termos de 1 até 1100 é 605550\n"
     ]
    }
   ],
   "source": [
    "num = int(input('Digite um número: '))\n",
    "\n",
    "i = 1\n",
    "soma = 0\n",
    "\n",
    "if num < 1:\n",
    "    print ('Digite um número inteiro maior ou igual a 1')\n",
    "else:\n",
    "    while i <= num:\n",
    "        soma += i\n",
    "        i += 1\n",
    "    print(f'A soma dos termos de 1 até {num} é {soma}')"
   ]
  },
  {
   "cell_type": "markdown",
   "metadata": {},
   "source": [
    "4) Faça um programa que imprima a tabuada do 9 (de 9*1 a 9*10) usando loops."
   ]
  },
  {
   "cell_type": "code",
   "execution_count": null,
   "metadata": {},
   "outputs": [
    {
     "name": "stdout",
     "output_type": "stream",
     "text": [
      "9 multiplicado por 1 é 9\n",
      "9 multiplicado por 2 é 18\n",
      "9 multiplicado por 3 é 27\n",
      "9 multiplicado por 4 é 36\n",
      "9 multiplicado por 5 é 45\n",
      "9 multiplicado por 6 é 54\n",
      "9 multiplicado por 7 é 63\n",
      "9 multiplicado por 8 é 72\n",
      "9 multiplicado por 9 é 81\n",
      "9 multiplicado por 10 é 90\n"
     ]
    }
   ],
   "source": [
    "i = 1\n",
    "tabuada = 1\n",
    "while i <= 10:\n",
    "    tabuada = i*9\n",
    "    print(f'9 multiplicado por {i} é {tabuada}')\n",
    "    i +=1    "
   ]
  },
  {
   "cell_type": "markdown",
   "metadata": {},
   "source": [
    "5) Faça um programa, usando loops, que peça para um usuário digitar um número e que só finaliza quando o usuário digitar 0. Ao final imprima a soma de todos os números digitados."
   ]
  },
  {
   "cell_type": "code",
   "execution_count": null,
   "metadata": {},
   "outputs": [
    {
     "name": "stdout",
     "output_type": "stream",
     "text": [
      "Programa finalizado. A soma dos números digitados é 15.0\n"
     ]
    }
   ],
   "source": [
    "soma = 0\n",
    "while (True):\n",
    "    num = float(input('Digite um número: '))\n",
    "    if num != 0:\n",
    "        soma = soma + num\n",
    "    else:\n",
    "        print(f'Programa finalizado. A soma dos números digitados é {soma}')\n",
    "        break"
   ]
  },
  {
   "cell_type": "markdown",
   "metadata": {},
   "source": [
    "6) Faça um programa que sorteia um número N e peça para o usuário adivinhar o número sorteado. A cada resposta errada, o seu programa deve imprimir um aviso dizendo que a resposta está errada e pedir novamente uma resposta ao usuário.\n",
    "\n",
    "Para a realização desse exercício, utilize alguma função da biblioteca random (e.g. randint())."
   ]
  },
  {
   "cell_type": "code",
   "execution_count": null,
   "metadata": {},
   "outputs": [
    {
     "name": "stdout",
     "output_type": "stream",
     "text": [
      "O número 1 digitado não é correto, digite outro.\n",
      "O número 2 digitado não é correto, digite outro.\n",
      "O número 3 digitado não é correto, digite outro.\n",
      "O número 4 digitado não é correto, digite outro.\n",
      "O número 5 digitado não é correto, digite outro.\n",
      "Parabéns, 6 é o número sorteado!\n"
     ]
    }
   ],
   "source": [
    "import random\n",
    "num_user = 0\n",
    "num_sorteado = random.randint(1,10)\n",
    "\n",
    "\n",
    "while num_user != num_sorteado:\n",
    "    num_user = int(input('Digite um número inteiro entre 0 e 10'))\n",
    "    if num_user == num_sorteado:\n",
    "        print(f'Parabéns, {num_user} é o número sorteado!')\n",
    "        break\n",
    "    else:\n",
    "        print(f'O número {num_user} digitado não é correto, digite outro.')"
   ]
  },
  {
   "cell_type": "markdown",
   "metadata": {},
   "source": [
    "7) Faça um programa que peça para o usuário digitar a idade, o salário e o sexo de uma pessoa até que as entradas digitadas sejam válidas.\n",
    "\n",
    "a. Idade: entre 0 e 150;\n",
    "\n",
    "b. Salário: maior que 0;\n",
    "\n",
    "c. Sexo: M, F ou Outro."
   ]
  },
  {
   "cell_type": "code",
   "execution_count": null,
   "metadata": {},
   "outputs": [
    {
     "name": "stdout",
     "output_type": "stream",
     "text": [
      "A idade é 29 anos, com o salário de R$12000.0 e de sexo M\n"
     ]
    }
   ],
   "source": [
    "age = -1\n",
    "sal = -1\n",
    "sexo = '0'\n",
    "\n",
    "while (age < 0 or age > 150):\n",
    "    age = int(input('Digite a idade (entre 0 e 150): '))\n",
    "\n",
    "while (sal <= 0):\n",
    "    sal = float(input('Digite o salário (maior que 0): '))\n",
    "\n",
    "while (True):\n",
    "    sexo = input('Digite o sexo (M, F ou Outro): ')\n",
    "    if sexo == 'F':\n",
    "        break\n",
    "    if sexo == 'M':\n",
    "        break\n",
    "    if sexo == 'Outro':\n",
    "        break      \n",
    "\n",
    "\n",
    "print(f'A idade é {age} anos, com o salário de R${sal} e de sexo {sexo}')"
   ]
  },
  {
   "cell_type": "markdown",
   "metadata": {},
   "source": [
    "8) Desafio! - Calcule a soma de até mil termos da série 1 + 1/2 + 1/4 + 1/8 + 1/16 + ...\n",
    "\n",
    "Dica: Use três variáveis:\n",
    "\n",
    "• um contador, que começa em zero;\n",
    "\n",
    "• uma variável para a soma de todos os termos, que também começa em zero;\n",
    "\n",
    "• uma variável para cada termo, que começa em 1 e a cada loop é dividida por 2.\n",
    "\n",
    "A repetição da soma de mil termos pode ser feita com a função while contador < 1000."
   ]
  },
  {
   "cell_type": "code",
   "execution_count": 4,
   "metadata": {},
   "outputs": [
    {
     "name": "stdout",
     "output_type": "stream",
     "text": [
      "2.0\n"
     ]
    }
   ],
   "source": [
    "i = 0\n",
    "soma = 0\n",
    "termo = 1\n",
    "\n",
    "while i < 1000:\n",
    "    termo = 1/(2**i)\n",
    "    i += 1\n",
    "    soma += termo\n",
    "\n",
    "print(soma)\n"
   ]
  },
  {
   "cell_type": "markdown",
   "metadata": {},
   "source": [
    "9) Super Desafio! - Calcule a soma de mil termos dos inversos dos fatoriais: 1/(1!) + 1/(2!) + 1/(3!) + 1/(4!) + ...\n",
    "\n",
    "Dica: Assim como no exercício anterior use três variáveis: um contador; uma variável para a soma; e uma variável para os termos. Lembre-se de que 4! = 4*3*2*1 que também é igual a 4*3!."
   ]
  },
  {
   "cell_type": "code",
   "execution_count": null,
   "metadata": {},
   "outputs": [
    {
     "name": "stdout",
     "output_type": "stream",
     "text": [
      "1.7182818284590455\n"
     ]
    }
   ],
   "source": [
    "i = 1\n",
    "soma = 0\n",
    "fatorial = 1\n",
    "\n",
    "while i <= 1000:\n",
    "    fatorial = fatorial*i\n",
    "    \n",
    "    termo = 1/fatorial\n",
    "    i += 1\n",
    "    soma += termo\n",
    "\n",
    "print(soma)   "
   ]
  }
 ],
 "metadata": {
  "kernelspec": {
   "display_name": "Python 3.10.5 64-bit",
   "language": "python",
   "name": "python3"
  },
  "language_info": {
   "codemirror_mode": {
    "name": "ipython",
    "version": 3
   },
   "file_extension": ".py",
   "mimetype": "text/x-python",
   "name": "python",
   "nbconvert_exporter": "python",
   "pygments_lexer": "ipython3",
   "version": "3.10.5"
  },
  "orig_nbformat": 4,
  "vscode": {
   "interpreter": {
    "hash": "75c7325c0caecc2d82c8a4e534cbb5ce82d278e087a13a7861173b66f0f67f74"
   }
  }
 },
 "nbformat": 4,
 "nbformat_minor": 2
}
